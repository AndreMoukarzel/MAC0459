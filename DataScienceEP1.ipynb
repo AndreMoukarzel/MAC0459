{
 "cells": [
  {
   "cell_type": "markdown",
   "metadata": {},
   "source": [
    "## Indentification of all the members of the group.\n",
    "Name: André Ferrari Moukarzel - 9298166\n",
    "\n",
    "Name: Ângelo Gregório Lovatto - 9293435"
   ]
  },
  {
   "cell_type": "markdown",
   "metadata": {},
   "source": [
    "## Name of the dataset\n",
    "Dataset: Drug consumption"
   ]
  },
  {
   "cell_type": "markdown",
   "metadata": {},
   "source": [
    "## Motivation to choose this dataset\n",
    "Rational for choosing this dataset: Having the personality measurements of a large number of people (knowing other characteristics, like gender, age, etc..) opens up interesting possiblities for analysis, even more with the combined data of drug consumption.\n",
    " Not only that, the dataset consists of real-valued attributes which makes it easier to plot histograms and analyze features such as mean, standard deviation and the like. However, it's not clear if these analyses have any meaning in the context of the attributes considered."
   ]
  },
  {
   "cell_type": "markdown",
   "metadata": {},
   "source": [
    "## Abstract\n",
    "The dataset consists of the results of a survey of 1885 participants with correspondent personal characteristics (age, ethnicity, level of education..) relating personality data to drug consumption.  18 legal and illegal and a fictional drug were considered, with the possible answers indicating how heavy of a consumer the respondent is."
   ]
  },
  {
   "cell_type": "markdown",
   "metadata": {},
   "source": [
    "## Questions to the dataset\n",
    "Question 1: Is there a difference in distribution of any personality trait between sexes?\n",
    "\n",
    "Question 2: Is a personality profile indicative that someone is an over-claimer (someone who affirmed using a fictional drug)? \n",
    "\n",
    "Question 3: Which are the most common drugs per country surveyed?\n"
   ]
  },
  {
   "cell_type": "markdown",
   "metadata": {},
   "source": [
    "## EDA\n",
    "Present your EDA strategy: \n",
    "\n",
    "Analyse the distribution of personality traits with gender separation.\n",
    "\n",
    "Distinguish over-claimers from others and compare it with personality traits.\n",
    "\n",
    "Binarize drug use into user and non-user from each drug, for easier analysis."
   ]
  },
  {
   "cell_type": "code",
   "execution_count": 216,
   "metadata": {},
   "outputs": [
    {
     "data": {
      "text/html": [
       "<div>\n",
       "<style scoped>\n",
       "    .dataframe tbody tr th:only-of-type {\n",
       "        vertical-align: middle;\n",
       "    }\n",
       "\n",
       "    .dataframe tbody tr th {\n",
       "        vertical-align: top;\n",
       "    }\n",
       "\n",
       "    .dataframe thead th {\n",
       "        text-align: right;\n",
       "    }\n",
       "</style>\n",
       "<table border=\"1\" class=\"dataframe\">\n",
       "  <thead>\n",
       "    <tr style=\"text-align: right;\">\n",
       "      <th></th>\n",
       "      <th>id</th>\n",
       "      <th>age</th>\n",
       "      <th>gender</th>\n",
       "      <th>education</th>\n",
       "      <th>country</th>\n",
       "      <th>etnicity</th>\n",
       "      <th>nscore</th>\n",
       "      <th>escore</th>\n",
       "      <th>oscore</th>\n",
       "      <th>ascore</th>\n",
       "      <th>cscore</th>\n",
       "      <th>impulsive</th>\n",
       "      <th>ss</th>\n",
       "    </tr>\n",
       "  </thead>\n",
       "  <tbody>\n",
       "    <tr>\n",
       "      <th>count</th>\n",
       "      <td>1885.000000</td>\n",
       "      <td>1885.00000</td>\n",
       "      <td>1885.000000</td>\n",
       "      <td>1885.000000</td>\n",
       "      <td>1885.000000</td>\n",
       "      <td>1885.000000</td>\n",
       "      <td>1885.000000</td>\n",
       "      <td>1885.000000</td>\n",
       "      <td>1885.000000</td>\n",
       "      <td>1885.000000</td>\n",
       "      <td>1885.000000</td>\n",
       "      <td>1885.000000</td>\n",
       "      <td>1885.000000</td>\n",
       "    </tr>\n",
       "    <tr>\n",
       "      <th>mean</th>\n",
       "      <td>945.294960</td>\n",
       "      <td>0.03461</td>\n",
       "      <td>-0.000256</td>\n",
       "      <td>-0.003806</td>\n",
       "      <td>0.355542</td>\n",
       "      <td>-0.309577</td>\n",
       "      <td>0.000047</td>\n",
       "      <td>-0.000163</td>\n",
       "      <td>-0.000534</td>\n",
       "      <td>-0.000245</td>\n",
       "      <td>-0.000386</td>\n",
       "      <td>0.007216</td>\n",
       "      <td>-0.003292</td>\n",
       "    </tr>\n",
       "    <tr>\n",
       "      <th>std</th>\n",
       "      <td>545.167641</td>\n",
       "      <td>0.87836</td>\n",
       "      <td>0.482588</td>\n",
       "      <td>0.950078</td>\n",
       "      <td>0.700335</td>\n",
       "      <td>0.166226</td>\n",
       "      <td>0.998106</td>\n",
       "      <td>0.997448</td>\n",
       "      <td>0.996229</td>\n",
       "      <td>0.997440</td>\n",
       "      <td>0.997523</td>\n",
       "      <td>0.954435</td>\n",
       "      <td>0.963701</td>\n",
       "    </tr>\n",
       "    <tr>\n",
       "      <th>min</th>\n",
       "      <td>1.000000</td>\n",
       "      <td>-0.95197</td>\n",
       "      <td>-0.482460</td>\n",
       "      <td>-2.435910</td>\n",
       "      <td>-0.570090</td>\n",
       "      <td>-1.107020</td>\n",
       "      <td>-3.464360</td>\n",
       "      <td>-3.273930</td>\n",
       "      <td>-3.273930</td>\n",
       "      <td>-3.464360</td>\n",
       "      <td>-3.464360</td>\n",
       "      <td>-2.555240</td>\n",
       "      <td>-2.078480</td>\n",
       "    </tr>\n",
       "    <tr>\n",
       "      <th>25%</th>\n",
       "      <td>474.000000</td>\n",
       "      <td>-0.95197</td>\n",
       "      <td>-0.482460</td>\n",
       "      <td>-0.611130</td>\n",
       "      <td>-0.570090</td>\n",
       "      <td>-0.316850</td>\n",
       "      <td>-0.678250</td>\n",
       "      <td>-0.695090</td>\n",
       "      <td>-0.717270</td>\n",
       "      <td>-0.606330</td>\n",
       "      <td>-0.652530</td>\n",
       "      <td>-0.711260</td>\n",
       "      <td>-0.525930</td>\n",
       "    </tr>\n",
       "    <tr>\n",
       "      <th>50%</th>\n",
       "      <td>946.000000</td>\n",
       "      <td>-0.07854</td>\n",
       "      <td>-0.482460</td>\n",
       "      <td>-0.059210</td>\n",
       "      <td>0.960820</td>\n",
       "      <td>-0.316850</td>\n",
       "      <td>0.042570</td>\n",
       "      <td>0.003320</td>\n",
       "      <td>-0.019280</td>\n",
       "      <td>-0.017290</td>\n",
       "      <td>-0.006650</td>\n",
       "      <td>-0.217120</td>\n",
       "      <td>0.079870</td>\n",
       "    </tr>\n",
       "    <tr>\n",
       "      <th>75%</th>\n",
       "      <td>1417.000000</td>\n",
       "      <td>0.49788</td>\n",
       "      <td>0.482460</td>\n",
       "      <td>0.454680</td>\n",
       "      <td>0.960820</td>\n",
       "      <td>-0.316850</td>\n",
       "      <td>0.629670</td>\n",
       "      <td>0.637790</td>\n",
       "      <td>0.723300</td>\n",
       "      <td>0.760960</td>\n",
       "      <td>0.584890</td>\n",
       "      <td>0.529750</td>\n",
       "      <td>0.765400</td>\n",
       "    </tr>\n",
       "    <tr>\n",
       "      <th>max</th>\n",
       "      <td>1888.000000</td>\n",
       "      <td>2.59171</td>\n",
       "      <td>0.482460</td>\n",
       "      <td>1.984370</td>\n",
       "      <td>0.960820</td>\n",
       "      <td>1.907250</td>\n",
       "      <td>3.273930</td>\n",
       "      <td>3.273930</td>\n",
       "      <td>2.901610</td>\n",
       "      <td>3.464360</td>\n",
       "      <td>3.464360</td>\n",
       "      <td>2.901610</td>\n",
       "      <td>1.921730</td>\n",
       "    </tr>\n",
       "  </tbody>\n",
       "</table>\n",
       "</div>"
      ],
      "text/plain": [
       "                id         age       gender    education      country  \\\n",
       "count  1885.000000  1885.00000  1885.000000  1885.000000  1885.000000   \n",
       "mean    945.294960     0.03461    -0.000256    -0.003806     0.355542   \n",
       "std     545.167641     0.87836     0.482588     0.950078     0.700335   \n",
       "min       1.000000    -0.95197    -0.482460    -2.435910    -0.570090   \n",
       "25%     474.000000    -0.95197    -0.482460    -0.611130    -0.570090   \n",
       "50%     946.000000    -0.07854    -0.482460    -0.059210     0.960820   \n",
       "75%    1417.000000     0.49788     0.482460     0.454680     0.960820   \n",
       "max    1888.000000     2.59171     0.482460     1.984370     0.960820   \n",
       "\n",
       "          etnicity       nscore       escore       oscore       ascore  \\\n",
       "count  1885.000000  1885.000000  1885.000000  1885.000000  1885.000000   \n",
       "mean     -0.309577     0.000047    -0.000163    -0.000534    -0.000245   \n",
       "std       0.166226     0.998106     0.997448     0.996229     0.997440   \n",
       "min      -1.107020    -3.464360    -3.273930    -3.273930    -3.464360   \n",
       "25%      -0.316850    -0.678250    -0.695090    -0.717270    -0.606330   \n",
       "50%      -0.316850     0.042570     0.003320    -0.019280    -0.017290   \n",
       "75%      -0.316850     0.629670     0.637790     0.723300     0.760960   \n",
       "max       1.907250     3.273930     3.273930     2.901610     3.464360   \n",
       "\n",
       "            cscore    impulsive           ss  \n",
       "count  1885.000000  1885.000000  1885.000000  \n",
       "mean     -0.000386     0.007216    -0.003292  \n",
       "std       0.997523     0.954435     0.963701  \n",
       "min      -3.464360    -2.555240    -2.078480  \n",
       "25%      -0.652530    -0.711260    -0.525930  \n",
       "50%      -0.006650    -0.217120     0.079870  \n",
       "75%       0.584890     0.529750     0.765400  \n",
       "max       3.464360     2.901610     1.921730  "
      ]
     },
     "execution_count": 216,
     "metadata": {},
     "output_type": "execute_result"
    }
   ],
   "source": [
    "%matplotlib inline \n",
    "import matplotlib.pyplot as plt\n",
    "import warnings; warnings.simplefilter('ignore')\n",
    "import pandas as pd\n",
    "import seaborn as sns\n",
    "import numpy as np\n",
    "\n",
    "drugs = pd.read_csv('drug_consumption.data')\n",
    "drugs.describe()"
   ]
  },
  {
   "cell_type": "markdown",
   "metadata": {},
   "source": [
    "## Question 1"
   ]
  },
  {
   "cell_type": "markdown",
   "metadata": {},
   "source": [
    "Male, in blue:    -0.48246\n",
    "\n",
    "Female, in orange: 0.48246\n",
    "\n",
    "By plotting the distribution of the traits while distinguishing by gender, we can notice some interesting differences in some of the traits."
   ]
  },
  {
   "cell_type": "markdown",
   "metadata": {},
   "source": [
    "### Neuroticism"
   ]
  },
  {
   "cell_type": "code",
   "execution_count": 217,
   "metadata": {},
   "outputs": [
    {
     "data": {
      "text/html": [
       "<div>\n",
       "<style scoped>\n",
       "    .dataframe tbody tr th:only-of-type {\n",
       "        vertical-align: middle;\n",
       "    }\n",
       "\n",
       "    .dataframe tbody tr th {\n",
       "        vertical-align: top;\n",
       "    }\n",
       "\n",
       "    .dataframe thead th {\n",
       "        text-align: right;\n",
       "    }\n",
       "</style>\n",
       "<table border=\"1\" class=\"dataframe\">\n",
       "  <thead>\n",
       "    <tr style=\"text-align: right;\">\n",
       "      <th></th>\n",
       "      <th>count</th>\n",
       "      <th>mean</th>\n",
       "      <th>std</th>\n",
       "      <th>min</th>\n",
       "      <th>25%</th>\n",
       "      <th>50%</th>\n",
       "      <th>75%</th>\n",
       "      <th>max</th>\n",
       "    </tr>\n",
       "    <tr>\n",
       "      <th>gender</th>\n",
       "      <th></th>\n",
       "      <th></th>\n",
       "      <th></th>\n",
       "      <th></th>\n",
       "      <th></th>\n",
       "      <th></th>\n",
       "      <th></th>\n",
       "      <th></th>\n",
       "    </tr>\n",
       "  </thead>\n",
       "  <tbody>\n",
       "    <tr>\n",
       "      <th>-0.48246</th>\n",
       "      <td>943.0</td>\n",
       "      <td>-0.074399</td>\n",
       "      <td>1.008479</td>\n",
       "      <td>-3.46436</td>\n",
       "      <td>-0.79151</td>\n",
       "      <td>-0.05188</td>\n",
       "      <td>0.62967</td>\n",
       "      <td>2.61139</td>\n",
       "    </tr>\n",
       "    <tr>\n",
       "      <th>0.48246</th>\n",
       "      <td>942.0</td>\n",
       "      <td>0.074571</td>\n",
       "      <td>0.982509</td>\n",
       "      <td>-2.75696</td>\n",
       "      <td>-0.58016</td>\n",
       "      <td>0.04257</td>\n",
       "      <td>0.73545</td>\n",
       "      <td>3.27393</td>\n",
       "    </tr>\n",
       "  </tbody>\n",
       "</table>\n",
       "</div>"
      ],
      "text/plain": [
       "          count      mean       std      min      25%      50%      75%  \\\n",
       "gender                                                                    \n",
       "-0.48246  943.0 -0.074399  1.008479 -3.46436 -0.79151 -0.05188  0.62967   \n",
       " 0.48246  942.0  0.074571  0.982509 -2.75696 -0.58016  0.04257  0.73545   \n",
       "\n",
       "              max  \n",
       "gender             \n",
       "-0.48246  2.61139  \n",
       " 0.48246  3.27393  "
      ]
     },
     "execution_count": 217,
     "metadata": {},
     "output_type": "execute_result"
    },
    {
     "data": {
      "image/png": "[encoded data removed]",
      "text/plain": [
       "<Figure size 432x288 with 1 Axes>"
      ]
     },
     "metadata": {},
     "output_type": "display_data"
    }
   ],
   "source": [
    "drugs.groupby('gender')['nscore'].plot.hist(alpha=0.5)\n",
    "drugs.groupby('gender')['nscore'].describe()"
   ]
  },
  {
   "cell_type": "markdown",
   "metadata": {},
   "source": [
    "### Extraversion"
   ]
  },
  {
   "cell_type": "code",
   "execution_count": 218,
   "metadata": {},
   "outputs": [
    {
     "data": {
      "text/html": [
       "<div>\n",
       "<style scoped>\n",
       "    .dataframe tbody tr th:only-of-type {\n",
       "        vertical-align: middle;\n",
       "    }\n",
       "\n",
       "    .dataframe tbody tr th {\n",
       "        vertical-align: top;\n",
       "    }\n",
       "\n",
       "    .dataframe thead th {\n",
       "        text-align: right;\n",
       "    }\n",
       "</style>\n",
       "<table border=\"1\" class=\"dataframe\">\n",
       "  <thead>\n",
       "    <tr style=\"text-align: right;\">\n",
       "      <th></th>\n",
       "      <th>count</th>\n",
       "      <th>mean</th>\n",
       "      <th>std</th>\n",
       "      <th>min</th>\n",
       "      <th>25%</th>\n",
       "      <th>50%</th>\n",
       "      <th>75%</th>\n",
       "      <th>max</th>\n",
       "    </tr>\n",
       "    <tr>\n",
       "      <th>gender</th>\n",
       "      <th></th>\n",
       "      <th></th>\n",
       "      <th></th>\n",
       "      <th></th>\n",
       "      <th></th>\n",
       "      <th></th>\n",
       "      <th></th>\n",
       "      <th></th>\n",
       "    </tr>\n",
       "  </thead>\n",
       "  <tbody>\n",
       "    <tr>\n",
       "      <th>-0.48246</th>\n",
       "      <td>943.0</td>\n",
       "      <td>-0.057834</td>\n",
       "      <td>1.037565</td>\n",
       "      <td>-3.27393</td>\n",
       "      <td>-0.80615</td>\n",
       "      <td>-0.15487</td>\n",
       "      <td>0.63779</td>\n",
       "      <td>3.27393</td>\n",
       "    </tr>\n",
       "    <tr>\n",
       "      <th>0.48246</th>\n",
       "      <td>942.0</td>\n",
       "      <td>0.057569</td>\n",
       "      <td>0.952663</td>\n",
       "      <td>-2.72827</td>\n",
       "      <td>-0.57545</td>\n",
       "      <td>0.00332</td>\n",
       "      <td>0.63779</td>\n",
       "      <td>3.00537</td>\n",
       "    </tr>\n",
       "  </tbody>\n",
       "</table>\n",
       "</div>"
      ],
      "text/plain": [
       "          count      mean       std      min      25%      50%      75%  \\\n",
       "gender                                                                    \n",
       "-0.48246  943.0 -0.057834  1.037565 -3.27393 -0.80615 -0.15487  0.63779   \n",
       " 0.48246  942.0  0.057569  0.952663 -2.72827 -0.57545  0.00332  0.63779   \n",
       "\n",
       "              max  \n",
       "gender             \n",
       "-0.48246  3.27393  \n",
       " 0.48246  3.00537  "
      ]
     },
     "execution_count": 218,
     "metadata": {},
     "output_type": "execute_result"
    },
    {
     "data": {
      "image/png": "[encoded data removed]",
      "text/plain": [
       "<Figure size 432x288 with 1 Axes>"
      ]
     },
     "metadata": {},
     "output_type": "display_data"
    }
   ],
   "source": [
    "drugs.groupby('gender')['escore'].plot.hist(alpha=0.5)\n",
    "drugs.groupby('gender')['escore'].describe()"
   ]
  },
  {
   "cell_type": "markdown",
   "metadata": {},
   "source": [
    "### Openess"
   ]
  },
  {
   "cell_type": "code",
   "execution_count": 219,
   "metadata": {},
   "outputs": [
    {
     "data": {
      "text/html": [
       "<div>\n",
       "<style scoped>\n",
       "    .dataframe tbody tr th:only-of-type {\n",
       "        vertical-align: middle;\n",
       "    }\n",
       "\n",
       "    .dataframe tbody tr th {\n",
       "        vertical-align: top;\n",
       "    }\n",
       "\n",
       "    .dataframe thead th {\n",
       "        text-align: right;\n",
       "    }\n",
       "</style>\n",
       "<table border=\"1\" class=\"dataframe\">\n",
       "  <thead>\n",
       "    <tr style=\"text-align: right;\">\n",
       "      <th></th>\n",
       "      <th>count</th>\n",
       "      <th>mean</th>\n",
       "      <th>std</th>\n",
       "      <th>min</th>\n",
       "      <th>25%</th>\n",
       "      <th>50%</th>\n",
       "      <th>75%</th>\n",
       "      <th>max</th>\n",
       "    </tr>\n",
       "    <tr>\n",
       "      <th>gender</th>\n",
       "      <th></th>\n",
       "      <th></th>\n",
       "      <th></th>\n",
       "      <th></th>\n",
       "      <th></th>\n",
       "      <th></th>\n",
       "      <th></th>\n",
       "      <th></th>\n",
       "    </tr>\n",
       "  </thead>\n",
       "  <tbody>\n",
       "    <tr>\n",
       "      <th>-0.48246</th>\n",
       "      <td>943.0</td>\n",
       "      <td>0.129889</td>\n",
       "      <td>0.953495</td>\n",
       "      <td>-2.85950</td>\n",
       "      <td>-0.45174</td>\n",
       "      <td>0.14143</td>\n",
       "      <td>0.72330</td>\n",
       "      <td>2.90161</td>\n",
       "    </tr>\n",
       "    <tr>\n",
       "      <th>0.48246</th>\n",
       "      <td>942.0</td>\n",
       "      <td>-0.131096</td>\n",
       "      <td>1.021187</td>\n",
       "      <td>-3.27393</td>\n",
       "      <td>-0.84732</td>\n",
       "      <td>-0.17779</td>\n",
       "      <td>0.58331</td>\n",
       "      <td>2.90161</td>\n",
       "    </tr>\n",
       "  </tbody>\n",
       "</table>\n",
       "</div>"
      ],
      "text/plain": [
       "          count      mean       std      min      25%      50%      75%  \\\n",
       "gender                                                                    \n",
       "-0.48246  943.0  0.129889  0.953495 -2.85950 -0.45174  0.14143  0.72330   \n",
       " 0.48246  942.0 -0.131096  1.021187 -3.27393 -0.84732 -0.17779  0.58331   \n",
       "\n",
       "              max  \n",
       "gender             \n",
       "-0.48246  2.90161  \n",
       " 0.48246  2.90161  "
      ]
     },
     "execution_count": 219,
     "metadata": {},
     "output_type": "execute_result"
    },
    {
     "data": {
      "image/png": "[encoded data removed]",
      "text/plain": [
       "<Figure size 432x288 with 1 Axes>"
      ]
     },
     "metadata": {},
     "output_type": "display_data"
    }
   ],
   "source": [
    "drugs.groupby('gender')['oscore'].plot.hist(alpha=0.5)\n",
    "drugs.groupby('gender')['oscore'].describe()"
   ]
  },
  {
   "cell_type": "markdown",
   "metadata": {},
   "source": [
    "### Agreeableness\n",
    "\n",
    "It is of note that the median of the distribution is half a standard deviation higher among the females. That is a relevant difference in psychology, and is also the biggest difference among the \"Big Five\" NEO-FFI-R personality traits measurements."
   ]
  },
  {
   "cell_type": "code",
   "execution_count": 220,
   "metadata": {},
   "outputs": [
    {
     "data": {
      "text/html": [
       "<div>\n",
       "<style scoped>\n",
       "    .dataframe tbody tr th:only-of-type {\n",
       "        vertical-align: middle;\n",
       "    }\n",
       "\n",
       "    .dataframe tbody tr th {\n",
       "        vertical-align: top;\n",
       "    }\n",
       "\n",
       "    .dataframe thead th {\n",
       "        text-align: right;\n",
       "    }\n",
       "</style>\n",
       "<table border=\"1\" class=\"dataframe\">\n",
       "  <thead>\n",
       "    <tr style=\"text-align: right;\">\n",
       "      <th></th>\n",
       "      <th>count</th>\n",
       "      <th>mean</th>\n",
       "      <th>std</th>\n",
       "      <th>min</th>\n",
       "      <th>25%</th>\n",
       "      <th>50%</th>\n",
       "      <th>75%</th>\n",
       "      <th>max</th>\n",
       "    </tr>\n",
       "    <tr>\n",
       "      <th>gender</th>\n",
       "      <th></th>\n",
       "      <th></th>\n",
       "      <th></th>\n",
       "      <th></th>\n",
       "      <th></th>\n",
       "      <th></th>\n",
       "      <th></th>\n",
       "      <th></th>\n",
       "    </tr>\n",
       "  </thead>\n",
       "  <tbody>\n",
       "    <tr>\n",
       "      <th>-0.48246</th>\n",
       "      <td>943.0</td>\n",
       "      <td>-0.219251</td>\n",
       "      <td>0.970008</td>\n",
       "      <td>-3.46436</td>\n",
       "      <td>-0.91699</td>\n",
       "      <td>-0.30172</td>\n",
       "      <td>0.43852</td>\n",
       "      <td>3.46436</td>\n",
       "    </tr>\n",
       "    <tr>\n",
       "      <th>0.48246</th>\n",
       "      <td>942.0</td>\n",
       "      <td>0.218994</td>\n",
       "      <td>0.976623</td>\n",
       "      <td>-2.78793</td>\n",
       "      <td>-0.45321</td>\n",
       "      <td>0.28783</td>\n",
       "      <td>0.94156</td>\n",
       "      <td>3.15735</td>\n",
       "    </tr>\n",
       "  </tbody>\n",
       "</table>\n",
       "</div>"
      ],
      "text/plain": [
       "          count      mean       std      min      25%      50%      75%  \\\n",
       "gender                                                                    \n",
       "-0.48246  943.0 -0.219251  0.970008 -3.46436 -0.91699 -0.30172  0.43852   \n",
       " 0.48246  942.0  0.218994  0.976623 -2.78793 -0.45321  0.28783  0.94156   \n",
       "\n",
       "              max  \n",
       "gender             \n",
       "-0.48246  3.46436  \n",
       " 0.48246  3.15735  "
      ]
     },
     "execution_count": 220,
     "metadata": {},
     "output_type": "execute_result"
    },
    {
     "data": {
      "image/png": "[encoded data removed]",
      "text/plain": [
       "<Figure size 432x288 with 1 Axes>"
      ]
     },
     "metadata": {},
     "output_type": "display_data"
    }
   ],
   "source": [
    "drugs.groupby('gender')['ascore'].plot.hist(alpha=0.5)\n",
    "drugs.groupby('gender')['ascore'].describe()"
   ]
  },
  {
   "cell_type": "markdown",
   "metadata": {},
   "source": [
    "### Conscientiousness \n",
    "\n",
    "While the median is similar, it is noticeable that the male distribution tends to be 0.3 standard deviations lower than the female's. That is a relevant difference, given that low conscientiousness has been correlated to drug abuse in other studies."
   ]
  },
  {
   "cell_type": "code",
   "execution_count": 221,
   "metadata": {
    "scrolled": true
   },
   "outputs": [
    {
     "data": {
      "text/html": [
       "<div>\n",
       "<style scoped>\n",
       "    .dataframe tbody tr th:only-of-type {\n",
       "        vertical-align: middle;\n",
       "    }\n",
       "\n",
       "    .dataframe tbody tr th {\n",
       "        vertical-align: top;\n",
       "    }\n",
       "\n",
       "    .dataframe thead th {\n",
       "        text-align: right;\n",
       "    }\n",
       "</style>\n",
       "<table border=\"1\" class=\"dataframe\">\n",
       "  <thead>\n",
       "    <tr style=\"text-align: right;\">\n",
       "      <th></th>\n",
       "      <th>count</th>\n",
       "      <th>mean</th>\n",
       "      <th>std</th>\n",
       "      <th>min</th>\n",
       "      <th>25%</th>\n",
       "      <th>50%</th>\n",
       "      <th>75%</th>\n",
       "      <th>max</th>\n",
       "    </tr>\n",
       "    <tr>\n",
       "      <th>gender</th>\n",
       "      <th></th>\n",
       "      <th></th>\n",
       "      <th></th>\n",
       "      <th></th>\n",
       "      <th></th>\n",
       "      <th></th>\n",
       "      <th></th>\n",
       "      <th></th>\n",
       "    </tr>\n",
       "  </thead>\n",
       "  <tbody>\n",
       "    <tr>\n",
       "      <th>-0.48246</th>\n",
       "      <td>943.0</td>\n",
       "      <td>-0.183616</td>\n",
       "      <td>0.975850</td>\n",
       "      <td>-3.46436</td>\n",
       "      <td>-0.78155</td>\n",
       "      <td>-0.27607</td>\n",
       "      <td>0.415940</td>\n",
       "      <td>3.00537</td>\n",
       "    </tr>\n",
       "    <tr>\n",
       "      <th>0.48246</th>\n",
       "      <td>942.0</td>\n",
       "      <td>0.183038</td>\n",
       "      <td>0.985697</td>\n",
       "      <td>-3.15735</td>\n",
       "      <td>-0.52745</td>\n",
       "      <td>0.25953</td>\n",
       "      <td>0.894192</td>\n",
       "      <td>3.46436</td>\n",
       "    </tr>\n",
       "  </tbody>\n",
       "</table>\n",
       "</div>"
      ],
      "text/plain": [
       "          count      mean       std      min      25%      50%       75%  \\\n",
       "gender                                                                     \n",
       "-0.48246  943.0 -0.183616  0.975850 -3.46436 -0.78155 -0.27607  0.415940   \n",
       " 0.48246  942.0  0.183038  0.985697 -3.15735 -0.52745  0.25953  0.894192   \n",
       "\n",
       "              max  \n",
       "gender             \n",
       "-0.48246  3.00537  \n",
       " 0.48246  3.46436  "
      ]
     },
     "execution_count": 221,
     "metadata": {},
     "output_type": "execute_result"
    },
    {
     "data": {
      "image/png": "[encoded data removed]",
      "text/plain": [
       "<Figure size 432x288 with 1 Axes>"
      ]
     },
     "metadata": {},
     "output_type": "display_data"
    }
   ],
   "source": [
    "drugs.groupby('gender')['cscore'].plot.hist(alpha=0.5)\n",
    "drugs.groupby('gender')['cscore'].describe()"
   ]
  },
  {
   "cell_type": "markdown",
   "metadata": {},
   "source": [
    "### Impulsiveness\n",
    "\n",
    "A trait that is considered a contributor to conscientiousness in NEO-FFI-R scaling, and is inversely correlated to such. Here, the difference between males and females is accentuated, with males being 0.4 standard deviations more impulsive, on average."
   ]
  },
  {
   "cell_type": "code",
   "execution_count": 222,
   "metadata": {},
   "outputs": [
    {
     "data": {
      "text/html": [
       "<div>\n",
       "<style scoped>\n",
       "    .dataframe tbody tr th:only-of-type {\n",
       "        vertical-align: middle;\n",
       "    }\n",
       "\n",
       "    .dataframe tbody tr th {\n",
       "        vertical-align: top;\n",
       "    }\n",
       "\n",
       "    .dataframe thead th {\n",
       "        text-align: right;\n",
       "    }\n",
       "</style>\n",
       "<table border=\"1\" class=\"dataframe\">\n",
       "  <thead>\n",
       "    <tr style=\"text-align: right;\">\n",
       "      <th></th>\n",
       "      <th>count</th>\n",
       "      <th>mean</th>\n",
       "      <th>std</th>\n",
       "      <th>min</th>\n",
       "      <th>25%</th>\n",
       "      <th>50%</th>\n",
       "      <th>75%</th>\n",
       "      <th>max</th>\n",
       "    </tr>\n",
       "    <tr>\n",
       "      <th>gender</th>\n",
       "      <th></th>\n",
       "      <th></th>\n",
       "      <th></th>\n",
       "      <th></th>\n",
       "      <th></th>\n",
       "      <th></th>\n",
       "      <th></th>\n",
       "      <th></th>\n",
       "    </tr>\n",
       "  </thead>\n",
       "  <tbody>\n",
       "    <tr>\n",
       "      <th>-0.48246</th>\n",
       "      <td>943.0</td>\n",
       "      <td>0.166949</td>\n",
       "      <td>0.908093</td>\n",
       "      <td>-2.55524</td>\n",
       "      <td>-0.21712</td>\n",
       "      <td>0.19268</td>\n",
       "      <td>0.88113</td>\n",
       "      <td>2.90161</td>\n",
       "    </tr>\n",
       "    <tr>\n",
       "      <th>0.48246</th>\n",
       "      <td>942.0</td>\n",
       "      <td>-0.152686</td>\n",
       "      <td>0.973218</td>\n",
       "      <td>-2.55524</td>\n",
       "      <td>-0.71126</td>\n",
       "      <td>-0.21712</td>\n",
       "      <td>0.52975</td>\n",
       "      <td>2.90161</td>\n",
       "    </tr>\n",
       "  </tbody>\n",
       "</table>\n",
       "</div>"
      ],
      "text/plain": [
       "          count      mean       std      min      25%      50%      75%  \\\n",
       "gender                                                                    \n",
       "-0.48246  943.0  0.166949  0.908093 -2.55524 -0.21712  0.19268  0.88113   \n",
       " 0.48246  942.0 -0.152686  0.973218 -2.55524 -0.71126 -0.21712  0.52975   \n",
       "\n",
       "              max  \n",
       "gender             \n",
       "-0.48246  2.90161  \n",
       " 0.48246  2.90161  "
      ]
     },
     "execution_count": 222,
     "metadata": {},
     "output_type": "execute_result"
    },
    {
     "data": {
      "image/png": "[encoded data removed]",
      "text/plain": [
       "<Figure size 432x288 with 1 Axes>"
      ]
     },
     "metadata": {},
     "output_type": "display_data"
    }
   ],
   "source": [
    "drugs.groupby('gender')['impulsive'].plot.hist(alpha=0.5)\n",
    "drugs.groupby('gender')['impulsive'].describe()"
   ]
  },
  {
   "cell_type": "markdown",
   "metadata": {},
   "source": [
    "### Sensation Seeking\n",
    "\n",
    "This is the trait with the most noticeable difference between males and females, with females being, on average, half a standard deviation less sensation seeking and having a mean lower by a whole standard deviation."
   ]
  },
  {
   "cell_type": "code",
   "execution_count": 223,
   "metadata": {
    "scrolled": true
   },
   "outputs": [
    {
     "data": {
      "text/html": [
       "<div>\n",
       "<style scoped>\n",
       "    .dataframe tbody tr th:only-of-type {\n",
       "        vertical-align: middle;\n",
       "    }\n",
       "\n",
       "    .dataframe tbody tr th {\n",
       "        vertical-align: top;\n",
       "    }\n",
       "\n",
       "    .dataframe thead th {\n",
       "        text-align: right;\n",
       "    }\n",
       "</style>\n",
       "<table border=\"1\" class=\"dataframe\">\n",
       "  <thead>\n",
       "    <tr style=\"text-align: right;\">\n",
       "      <th></th>\n",
       "      <th>count</th>\n",
       "      <th>mean</th>\n",
       "      <th>std</th>\n",
       "      <th>min</th>\n",
       "      <th>25%</th>\n",
       "      <th>50%</th>\n",
       "      <th>75%</th>\n",
       "      <th>max</th>\n",
       "    </tr>\n",
       "    <tr>\n",
       "      <th>gender</th>\n",
       "      <th></th>\n",
       "      <th></th>\n",
       "      <th></th>\n",
       "      <th></th>\n",
       "      <th></th>\n",
       "      <th></th>\n",
       "      <th></th>\n",
       "      <th></th>\n",
       "    </tr>\n",
       "  </thead>\n",
       "  <tbody>\n",
       "    <tr>\n",
       "      <th>-0.48246</th>\n",
       "      <td>943.0</td>\n",
       "      <td>0.231931</td>\n",
       "      <td>0.881860</td>\n",
       "      <td>-2.07848</td>\n",
       "      <td>-0.21575</td>\n",
       "      <td>0.40148</td>\n",
       "      <td>0.76540</td>\n",
       "      <td>1.92173</td>\n",
       "    </tr>\n",
       "    <tr>\n",
       "      <th>0.48246</th>\n",
       "      <td>942.0</td>\n",
       "      <td>-0.238764</td>\n",
       "      <td>0.984864</td>\n",
       "      <td>-2.07848</td>\n",
       "      <td>-0.84637</td>\n",
       "      <td>-0.21575</td>\n",
       "      <td>0.40148</td>\n",
       "      <td>1.92173</td>\n",
       "    </tr>\n",
       "  </tbody>\n",
       "</table>\n",
       "</div>"
      ],
      "text/plain": [
       "          count      mean       std      min      25%      50%      75%  \\\n",
       "gender                                                                    \n",
       "-0.48246  943.0  0.231931  0.881860 -2.07848 -0.21575  0.40148  0.76540   \n",
       " 0.48246  942.0 -0.238764  0.984864 -2.07848 -0.84637 -0.21575  0.40148   \n",
       "\n",
       "              max  \n",
       "gender             \n",
       "-0.48246  1.92173  \n",
       " 0.48246  1.92173  "
      ]
     },
     "execution_count": 223,
     "metadata": {},
     "output_type": "execute_result"
    },
    {
     "data": {
      "image/png": "[encoded data removed]",
      "text/plain": [
       "<Figure size 432x288 with 1 Axes>"
      ]
     },
     "metadata": {},
     "output_type": "display_data"
    }
   ],
   "source": [
    "drugs.groupby('gender')['ss'].plot.hist(alpha=0.5)\n",
    "drugs.groupby('gender')['ss'].describe()"
   ]
  },
  {
   "cell_type": "markdown",
   "metadata": {},
   "source": [
    "## Question 2"
   ]
  },
  {
   "cell_type": "code",
   "execution_count": 224,
   "metadata": {},
   "outputs": [
    {
     "data": {
      "text/plain": [
       "False    1877\n",
       "True        8\n",
       "Name: overclaimer, dtype: int64"
      ]
     },
     "execution_count": 224,
     "metadata": {},
     "output_type": "execute_result"
    },
    {
     "data": {
      "image/png": "[encoded data removed]",
      "text/plain": [
       "<Figure size 432x288 with 2 Axes>"
      ]
     },
     "metadata": {},
     "output_type": "display_data"
    }
   ],
   "source": [
    "drugs['overclaimer'] = drugs['semer'] != 'CL0'\n",
    "sns.heatmap(drugs[['nscore','escore','oscore','ascore','cscore', 'impulsive', 'ss','overclaimer']].corr(), cmap='coolwarm')\n",
    "drugs['overclaimer'].value_counts()"
   ]
  },
  {
   "cell_type": "markdown",
   "metadata": {},
   "source": [
    "Not only do all personality traits have no aparent correlation to what we called over-claimers (that is, people that told researchers they had ever used \"Semer\", a fictional drug), the number of over-claimers itself is so small that it would be impossible to gather statisticaly relevant data from it."
   ]
  },
  {
   "cell_type": "markdown",
   "metadata": {},
   "source": [
    "## Question 3"
   ]
  },
  {
   "cell_type": "markdown",
   "metadata": {},
   "source": [
    "Keep in mind that New Zealand had only 5 participants, and Australia only 20.\n",
    "\n",
    "USA: -0.57009\n",
    "\n",
    "New Zealand: -0.46841\n",
    "\n",
    "Other: -0.28519\n",
    "\n",
    "Australia: -0.09765\n",
    "\n",
    "Republic of Ireland: 0.21128\n",
    "\n",
    "Canada: 0.24923\n",
    "\n",
    "UK: 0.96082"
   ]
  },
  {
   "cell_type": "code",
   "execution_count": 225,
   "metadata": {},
   "outputs": [],
   "source": [
    "drugs['alcohool'] = (drugs['alcohool'] != 'CL0') & (drugs['alcohool'] != 'CL1')\n",
    "drugs['amphet'] = (drugs['amphet'] != 'CL0') & (drugs['amphet'] != 'CL1')\n",
    "drugs['amyl'] = (drugs['amyl'] != 'CL0') & (drugs['amyl'] != 'CL1')\n",
    "drugs['benzos'] = (drugs['benzos'] != 'CL0') & (drugs['benzos'] != 'CL1')\n",
    "drugs['caff'] = (drugs['caff'] != 'CL0') & (drugs['caff'] != 'CL1')\n",
    "drugs['cannabis'] = (drugs['cannabis'] != 'CL0') & (drugs['cannabis'] != 'CL1')\n",
    "drugs['choc'] = (drugs['choc'] != 'CL0') & (drugs['choc'] != 'CL1')\n",
    "drugs['coke'] = (drugs['coke'] != 'CL0') & (drugs['coke'] != 'CL1')\n",
    "drugs['crack'] = (drugs['crack'] != 'CL0') & (drugs['crack'] != 'CL1')\n",
    "drugs['ecstasy'] = (drugs['ecstasy'] != 'CL0') & (drugs['ecstasy'] != 'CL1')\n",
    "drugs['heroin'] = (drugs['heroin'] != 'CL0') & (drugs['heroin'] != 'CL1')\n",
    "drugs['ketamine'] = (drugs['ketamine'] != 'CL0') & (drugs['ketamine'] != 'CL1')\n",
    "drugs['legalh'] = (drugs['legalh'] != 'CL0') & (drugs['legalh'] != 'CL1')\n",
    "drugs['lsd'] = (drugs['lsd'] != 'CL0') & (drugs['lsd'] != 'CL1')\n",
    "drugs['meth'] = (drugs['meth'] != 'CL0') & (drugs['meth'] != 'CL1')\n",
    "drugs['mushrooms'] = (drugs['mushrooms'] != 'CL0') & (drugs['mushrooms'] != 'CL1')\n",
    "drugs['nicotine'] = (drugs['nicotine'] != 'CL0') & (drugs['nicotine'] != 'CL1')\n",
    "drugs['vsa'] = (drugs['vsa'] != 'CL0') & (drugs['vsa'] != 'CL1')"
   ]
  },
  {
   "cell_type": "code",
   "execution_count": 226,
   "metadata": {},
   "outputs": [],
   "source": [
    "def lowest_to_highest(count_list):\n",
    "    print(\"From lowest to highest, percentage of participants that claim to have used the drug:\\n\\n\")\n",
    "    names = ['USA', 'New Zealand', 'Other', 'Australia', 'Republic of Ireland', 'Canada', 'UK']\n",
    "    vals = [557, 5, 118, 54, 20, 87, 1044]\n",
    "      \n",
    "    for i, key in enumerate(count_list.keys()):\n",
    "        if key[1]: # Number of \"True\"\n",
    "            if key[0] == 'USA': # USA\n",
    "                vals[0] = count_list[i]/vals[0]\n",
    "            elif key[0] == 'NZ': # NZ\n",
    "                vals[1] = count_list[i]/vals[1]\n",
    "            elif key[0] == 'Other': # Other\n",
    "                vals[2] = count_list[i]/vals[2]\n",
    "            elif key[0] == 'AUS': # AUS\n",
    "                vals[3] = count_list[i]/vals[3]\n",
    "            elif key[0] == 'IE': # IE\n",
    "                vals[4] = count_list[i]/vals[4]\n",
    "            elif key[0] == 'CAN': # CAN\n",
    "                vals[5] = count_list[i]/vals[5]\n",
    "            else:\n",
    "                vals[6] = count_list[i]/vals[6]\n",
    "    \n",
    "    vals, names = zip(*sorted(zip(vals, names)))\n",
    "    for i in range(len(vals)):\n",
    "        print(names[i], \": \",vals[i])"
   ]
  },
  {
   "cell_type": "code",
   "execution_count": null,
   "metadata": {},
   "outputs": [],
   "source": []
  },
  {
   "cell_type": "markdown",
   "metadata": {},
   "source": [
    "### Alcohol"
   ]
  },
  {
   "cell_type": "code",
   "execution_count": 227,
   "metadata": {
    "scrolled": true
   },
   "outputs": [
    {
     "name": "stdout",
     "output_type": "stream",
     "text": [
      "From lowest to highest, percentage of participants that claim to have used the drug:\n",
      "\n",
      "\n",
      "UK :  0.020372478854912165\n",
      "Other :  0.9745762711864406\n",
      "USA :  0.9766606822262118\n",
      "New Zealand :  5\n",
      "Republic of Ireland :  20\n",
      "Australia :  54\n",
      "Canada :  87\n"
     ]
    },
    {
     "data": {
      "image/png": "[encoded data removed]",
      "text/plain": [
       "<Figure size 432x288 with 1 Axes>"
      ]
     },
     "metadata": {},
     "output_type": "display_data"
    }
   ],
   "source": [
    "drugs['countryn'] = pd.cut(drugs['country'], [-0.58,-0.47,-0.3,-0.2,0.0,0.23,0.5,1.], labels=['USA', 'New Zealand', 'Other', 'Australia', 'Republic of Ireland', 'Canada', 'UK'])\n",
    "val = drugs.groupby('countryn')['alcohool'].value_counts()\n",
    "val.plot(kind='barh')\n",
    "lowest_to_highest(val)"
   ]
  },
  {
   "cell_type": "markdown",
   "metadata": {},
   "source": [
    "### Amphetamines "
   ]
  },
  {
   "cell_type": "code",
   "execution_count": 228,
   "metadata": {},
   "outputs": [
    {
     "name": "stdout",
     "output_type": "stream",
     "text": [
      "From lowest to highest, percentage of participants that claim to have used the drug:\n",
      "\n",
      "\n",
      "New Zealand :  5\n",
      "UK :  13.771913474272822\n",
      "Republic of Ireland :  20\n",
      "Australia :  54\n",
      "Canada :  87\n",
      "Other :  118\n",
      "USA :  557\n"
     ]
    }
   ],
   "source": [
    "val = drugs.groupby('country')['amphet'].value_counts()\n",
    "lowest_to_highest(val)"
   ]
  },
  {
   "cell_type": "markdown",
   "metadata": {},
   "source": [
    "### Amyl Nitrite"
   ]
  },
  {
   "cell_type": "code",
   "execution_count": 229,
   "metadata": {},
   "outputs": [
    {
     "name": "stdout",
     "output_type": "stream",
     "text": [
      "From lowest to highest, percentage of participants that claim to have used the drug:\n",
      "\n",
      "\n",
      "New Zealand :  5\n",
      "UK :  6.34212382445141\n",
      "Republic of Ireland :  20\n",
      "Australia :  54\n",
      "Canada :  87\n",
      "Other :  118\n",
      "USA :  557\n"
     ]
    }
   ],
   "source": [
    "val = drugs.groupby('country')['amyl'].value_counts(sort=False)\n",
    "lowest_to_highest(val)"
   ]
  },
  {
   "cell_type": "markdown",
   "metadata": {},
   "source": [
    "### Benzodiazepine"
   ]
  },
  {
   "cell_type": "code",
   "execution_count": 230,
   "metadata": {},
   "outputs": [
    {
     "name": "stdout",
     "output_type": "stream",
     "text": [
      "From lowest to highest, percentage of participants that claim to have used the drug:\n",
      "\n",
      "\n",
      "New Zealand :  5\n",
      "UK :  12.32799736856532\n",
      "Republic of Ireland :  20\n",
      "Australia :  54\n",
      "Canada :  87\n",
      "Other :  118\n",
      "USA :  557\n"
     ]
    }
   ],
   "source": [
    "val = drugs.groupby('country')['benzos'].value_counts()\n",
    "lowest_to_highest(val)"
   ]
  },
  {
   "cell_type": "markdown",
   "metadata": {},
   "source": [
    "### Caffeine"
   ]
  },
  {
   "cell_type": "code",
   "execution_count": 231,
   "metadata": {},
   "outputs": [
    {
     "name": "stdout",
     "output_type": "stream",
     "text": [
      "From lowest to highest, percentage of participants that claim to have used the drug:\n",
      "\n",
      "\n",
      "New Zealand :  5\n",
      "Republic of Ireland :  20\n",
      "Australia :  54\n",
      "UK :  54.82705274992087\n",
      "Canada :  87\n",
      "Other :  118\n",
      "USA :  557\n"
     ]
    }
   ],
   "source": [
    "val = drugs.groupby('country')['caff'].value_counts()\n",
    "lowest_to_highest(val)"
   ]
  },
  {
   "cell_type": "markdown",
   "metadata": {},
   "source": [
    "### Cannabis"
   ]
  },
  {
   "cell_type": "code",
   "execution_count": 232,
   "metadata": {
    "scrolled": true
   },
   "outputs": [
    {
     "name": "stdout",
     "output_type": "stream",
     "text": [
      "From lowest to highest, percentage of participants that claim to have used the drug:\n",
      "\n",
      "\n",
      "New Zealand :  5\n",
      "Republic of Ireland :  20\n",
      "UK :  24.65056841058606\n",
      "Australia :  54\n",
      "Canada :  87\n",
      "Other :  118\n",
      "USA :  557\n"
     ]
    }
   ],
   "source": [
    "val = drugs.groupby('country')['cannabis'].value_counts()\n",
    "lowest_to_highest(val)"
   ]
  },
  {
   "cell_type": "markdown",
   "metadata": {},
   "source": [
    "### Chocolate"
   ]
  },
  {
   "cell_type": "code",
   "execution_count": 233,
   "metadata": {},
   "outputs": [
    {
     "name": "stdout",
     "output_type": "stream",
     "text": [
      "From lowest to highest, percentage of participants that claim to have used the drug:\n",
      "\n",
      "\n",
      "New Zealand :  5\n",
      "Republic of Ireland :  20\n",
      "Australia :  54\n",
      "UK :  56.466864467495256\n",
      "Canada :  87\n",
      "Other :  118\n",
      "USA :  557\n"
     ]
    }
   ],
   "source": [
    "val = drugs.groupby('country')['choc'].value_counts()\n",
    "lowest_to_highest(val)"
   ]
  },
  {
   "cell_type": "markdown",
   "metadata": {},
   "source": [
    "### Cocaine"
   ]
  },
  {
   "cell_type": "code",
   "execution_count": 234,
   "metadata": {},
   "outputs": [
    {
     "name": "stdout",
     "output_type": "stream",
     "text": [
      "From lowest to highest, percentage of participants that claim to have used the drug:\n",
      "\n",
      "\n",
      "New Zealand :  5\n",
      "UK :  16.021125\n",
      "Republic of Ireland :  20\n",
      "Australia :  54\n",
      "Canada :  87\n",
      "Other :  118\n",
      "USA :  557\n"
     ]
    }
   ],
   "source": [
    "val = drugs.groupby('country')['coke'].value_counts()\n",
    "lowest_to_highest(val)"
   ]
  },
  {
   "cell_type": "markdown",
   "metadata": {},
   "source": [
    "### Crack"
   ]
  },
  {
   "cell_type": "code",
   "execution_count": 235,
   "metadata": {},
   "outputs": [
    {
     "name": "stdout",
     "output_type": "stream",
     "text": [
      "From lowest to highest, percentage of participants that claim to have used the drug:\n",
      "\n",
      "\n",
      "New Zealand :  5\n",
      "Republic of Ireland :  20\n",
      "Australia :  54\n",
      "Canada :  87\n",
      "UK :  98.69747899159664\n",
      "Other :  118\n",
      "USA :  557\n"
     ]
    }
   ],
   "source": [
    "val = drugs.groupby('country')['crack'].value_counts()\n",
    "lowest_to_highest(val)"
   ]
  },
  {
   "cell_type": "markdown",
   "metadata": {},
   "source": [
    "### Ecstasy"
   ]
  },
  {
   "cell_type": "code",
   "execution_count": 236,
   "metadata": {},
   "outputs": [
    {
     "name": "stdout",
     "output_type": "stream",
     "text": [
      "From lowest to highest, percentage of participants that claim to have used the drug:\n",
      "\n",
      "\n",
      "New Zealand :  5\n",
      "UK :  13.562605779314497\n",
      "Republic of Ireland :  20\n",
      "Australia :  54\n",
      "Canada :  87\n",
      "Other :  118\n",
      "USA :  557\n"
     ]
    }
   ],
   "source": [
    "val = drugs.groupby('country')['ecstasy'].value_counts()\n",
    "lowest_to_highest(val)"
   ]
  },
  {
   "cell_type": "markdown",
   "metadata": {},
   "source": [
    "### Heroin"
   ]
  },
  {
   "cell_type": "code",
   "execution_count": 237,
   "metadata": {},
   "outputs": [
    {
     "name": "stdout",
     "output_type": "stream",
     "text": [
      "From lowest to highest, percentage of participants that claim to have used the drug:\n",
      "\n",
      "\n",
      "UK :  0.7214506172839507\n",
      "New Zealand :  5\n",
      "Republic of Ireland :  20\n",
      "Australia :  54\n",
      "Canada :  87\n",
      "Other :  118\n",
      "USA :  557\n"
     ]
    }
   ],
   "source": [
    "val = drugs.groupby('country')['heroin'].value_counts()\n",
    "lowest_to_highest(val)"
   ]
  },
  {
   "cell_type": "markdown",
   "metadata": {},
   "source": [
    "### Ketamines"
   ]
  },
  {
   "cell_type": "code",
   "execution_count": 238,
   "metadata": {},
   "outputs": [
    {
     "name": "stdout",
     "output_type": "stream",
     "text": [
      "From lowest to highest, percentage of participants that claim to have used the drug:\n",
      "\n",
      "\n",
      "UK :  2.0555555555555554\n",
      "New Zealand :  5\n",
      "Republic of Ireland :  20\n",
      "Australia :  54\n",
      "Canada :  87\n",
      "Other :  118\n",
      "USA :  557\n"
     ]
    }
   ],
   "source": [
    "val = drugs.groupby('country')['ketamine'].value_counts()\n",
    "lowest_to_highest(val)"
   ]
  },
  {
   "cell_type": "markdown",
   "metadata": {},
   "source": [
    "### Legal Highs"
   ]
  },
  {
   "cell_type": "code",
   "execution_count": 239,
   "metadata": {},
   "outputs": [
    {
     "name": "stdout",
     "output_type": "stream",
     "text": [
      "From lowest to highest, percentage of participants that claim to have used the drug:\n",
      "\n",
      "\n",
      "New Zealand :  5\n",
      "UK :  10.971794871794872\n",
      "Republic of Ireland :  20\n",
      "Australia :  54\n",
      "Canada :  87\n",
      "Other :  118\n",
      "USA :  557\n"
     ]
    }
   ],
   "source": [
    "val = drugs.groupby('country')['legalh'].value_counts()\n",
    "lowest_to_highest(val)"
   ]
  },
  {
   "cell_type": "markdown",
   "metadata": {},
   "source": [
    "### LSD"
   ]
  },
  {
   "cell_type": "code",
   "execution_count": 240,
   "metadata": {},
   "outputs": [
    {
     "name": "stdout",
     "output_type": "stream",
     "text": [
      "From lowest to highest, percentage of participants that claim to have used the drug:\n",
      "\n",
      "\n",
      "UK :  2.7020498967106312\n",
      "New Zealand :  5\n",
      "Republic of Ireland :  20\n",
      "Australia :  54\n",
      "Canada :  87\n",
      "Other :  118\n",
      "USA :  557\n"
     ]
    }
   ],
   "source": [
    "val = drugs.groupby('country')['lsd'].value_counts()\n",
    "lowest_to_highest(val)"
   ]
  },
  {
   "cell_type": "markdown",
   "metadata": {},
   "source": [
    "### Methadone"
   ]
  },
  {
   "cell_type": "code",
   "execution_count": 241,
   "metadata": {},
   "outputs": [
    {
     "name": "stdout",
     "output_type": "stream",
     "text": [
      "From lowest to highest, percentage of participants that claim to have used the drug:\n",
      "\n",
      "\n",
      "UK :  3.259365687526607\n",
      "New Zealand :  5\n",
      "Republic of Ireland :  20\n",
      "Australia :  54\n",
      "Canada :  87\n",
      "Other :  118\n",
      "USA :  557\n"
     ]
    }
   ],
   "source": [
    "val = drugs.groupby('country')['meth'].value_counts()\n",
    "lowest_to_highest(val)"
   ]
  },
  {
   "cell_type": "markdown",
   "metadata": {},
   "source": [
    "### Mushrooms"
   ]
  },
  {
   "cell_type": "code",
   "execution_count": 242,
   "metadata": {},
   "outputs": [
    {
     "name": "stdout",
     "output_type": "stream",
     "text": [
      "From lowest to highest, percentage of participants that claim to have used the drug:\n",
      "\n",
      "\n",
      "New Zealand :  5\n",
      "UK :  6.585179632406018\n",
      "Republic of Ireland :  20\n",
      "Australia :  54\n",
      "Canada :  87\n",
      "Other :  118\n",
      "USA :  557\n"
     ]
    }
   ],
   "source": [
    "val = drugs.groupby('country')['mushrooms'].value_counts()\n",
    "lowest_to_highest(val)"
   ]
  },
  {
   "cell_type": "markdown",
   "metadata": {},
   "source": [
    "### Nicotine"
   ]
  },
  {
   "cell_type": "code",
   "execution_count": 243,
   "metadata": {},
   "outputs": [
    {
     "name": "stdout",
     "output_type": "stream",
     "text": [
      "From lowest to highest, percentage of participants that claim to have used the drug:\n",
      "\n",
      "\n",
      "New Zealand :  5\n",
      "Republic of Ireland :  20\n",
      "Australia :  54\n",
      "UK :  58.50793650793651\n",
      "Canada :  87\n",
      "Other :  118\n",
      "USA :  557\n"
     ]
    }
   ],
   "source": [
    "val = drugs.groupby('country')['nicotine'].value_counts()\n",
    "lowest_to_highest(val)"
   ]
  },
  {
   "cell_type": "markdown",
   "metadata": {},
   "source": [
    "### Volatile Substance Abuse"
   ]
  },
  {
   "cell_type": "code",
   "execution_count": 244,
   "metadata": {},
   "outputs": [
    {
     "name": "stdout",
     "output_type": "stream",
     "text": [
      "From lowest to highest, percentage of participants that claim to have used the drug:\n",
      "\n",
      "\n",
      "UK :  2.7709359605911335\n",
      "New Zealand :  5\n",
      "Republic of Ireland :  20\n",
      "Australia :  54\n",
      "Canada :  87\n",
      "Other :  118\n",
      "USA :  557\n"
     ]
    }
   ],
   "source": [
    "val = drugs.groupby('country')['vsa'].value_counts()\n",
    "lowest_to_highest(val)"
   ]
  },
  {
   "cell_type": "markdown",
   "metadata": {},
   "source": [
    "## Considerations\n",
    "\n",
    "### About the Dataset\n",
    "\n",
    " The dataset is rich, and having its data all converted to float values certanly makes it a great candidate for experiments with machine learning, even though it makes it harder for human analysis. \n",
    " \n",
    " The data on drug is easy enough to manage, and is very surprising in many aspects.\n",
    " \n",
    " The data on personality traits is surprisingly technical and deep, so its hard for a non-psychologist to evaluate the meaning of the results completly. Our analysis presented us with mostly the expected results given past research made in this area - that is, men and women have roughly the same distribution of personality traits, with the exception of Agreeableness, where women are more agreeable - but surprisingly there was also a difference in Conscientiousness that is not reported in studies, and also noticeable difference in impulsiveness and sensation seeking, which also seems abnormal.\n",
    " \n",
    " Does that mean there was some bias in the participants? We may never know.\n",
    " \n",
    " \n",
    "### Importance of EDA\n",
    "\n",
    " Having an EDA was surprisingly helpful in going about understanding and analysing the data. We were able to answer our questions about the dataset faster than expected, and are confident we'd be able to make a more complex analysis and explore other interesting questions in the future.\n",
    " "
   ]
  }
 ],
 "metadata": {
  "kernelspec": {
   "display_name": "Python 3",
   "language": "python",
   "name": "python3"
  },
  "language_info": {
   "codemirror_mode": {
    "name": "ipython",
    "version": 3
   },
   "file_extension": ".py",
   "mimetype": "text/x-python",
   "name": "python",
   "nbconvert_exporter": "python",
   "pygments_lexer": "ipython3",
   "version": "3.6.5"
  }
 },
 "nbformat": 4,
 "nbformat_minor": 2
}
