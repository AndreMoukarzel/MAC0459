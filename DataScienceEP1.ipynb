{
 "cells": [
  {
   "cell_type": "markdown",
   "metadata": {},
   "source": [
    "## Indentification of all the members of the group.\n",
    "Name: André Ferrari Moukarzel - 9298166\n",
    "\n",
    "Name: Ângelo Gregório Lovatto - 9293435"
   ]
  },
  {
   "cell_type": "markdown",
   "metadata": {},
   "source": [
    "## Name of the dataset\n",
    "Dataset: Drug consumption"
   ]
  },
  {
   "cell_type": "markdown",
   "metadata": {},
   "source": [
    "## Motivation to choose this dataset\n",
    "Rational for choosing this dataset: Having the personality measurements of a large number of people (knowing other characteristics, like gender, age, etc..) opens up interesting possiblities for analysis, even more with the combined data of drug consumption.\n",
    " Not only that, the dataset consists of real-valued attributes which makes it easier to plot histograms and analyze features such as mean, standard deviation and the like. However, it's not clear if these analyses have any meaning in the context of the attributes considered."
   ]
  },
  {
   "cell_type": "markdown",
   "metadata": {},
   "source": [
    "## Abstract\n",
    "The dataset consists of the results of a survey of 1885 participants with correspondent personal characteristics (age, ethnicity, level of education..) relating personality data to drug consumption.  18 legal and illegal and a fictional drug were considered, with the possible answers indicating how heavy of a consumer the respondent is."
   ]
  },
  {
   "cell_type": "markdown",
   "metadata": {},
   "source": [
    "## Questions to the dataset\n",
    "Question 1: Is there a difference in distribution of any personality trait between sexes?\n",
    "\n",
    "Question 2: Is a personality profile indicative that someone is an over-claimer (someone who affirmed using a fictional drug)? \n",
    "Question 3: Which are the most common drugs per country surveyed?\n"
   ]
  },
  {
   "cell_type": "markdown",
   "metadata": {},
   "source": [
    "## EDA\n",
    "Present your EDA strategy: \n",
    "Distinguish individuals between users and non-user of drugs.\n",
    "Distinguish legal and ilegal drug use.\n",
    "Plot personality traits with specific drug use.\n",
    "With personality traits that seem to have a bigger correlation with drug use, analyse population in highest and lowest quartile of distribution of such trait. "
   ]
  },
  {
   "cell_type": "markdown",
   "metadata": {},
   "source": [
    "## Some examples of analysis/visualizations:"
   ]
  },
  {
   "cell_type": "markdown",
   "metadata": {},
   "source": [
    "1) Present the mean, variance, min, median and max values for each attribute. If the dataset has too many attibutes, choose the more significant ones. Present your code and some remarks to help the understanding."
   ]
  },
  {
   "cell_type": "markdown",
   "metadata": {},
   "source": [
    "2) How well distributed are the dataset in relation the each attribute. How can you visually check that? Hint: plot a histogram"
   ]
  },
  {
   "cell_type": "markdown",
   "metadata": {},
   "source": [
    "3) Is there any attribute that can be used to better interpret the dataset? Show this in a graphic where you used this attribute to group (groupby) the data."
   ]
  },
  {
   "cell_type": "markdown",
   "metadata": {},
   "source": [
    "4) Is there any outlier's pattern? "
   ]
  },
  {
   "cell_type": "markdown",
   "metadata": {},
   "source": [
    "5) Make your own remarks about the dataset. Try to use one or more graphics to justify your remarks."
   ]
  },
  {
   "cell_type": "markdown",
   "metadata": {},
   "source": [
    "6) Is there any symmetry that can be stressed?"
   ]
  },
  {
   "cell_type": "markdown",
   "metadata": {},
   "source": [
    "7) How important was EDA to help you understand the dataset?"
   ]
  }
 ],
 "metadata": {
  "kernelspec": {
   "display_name": "Python 3",
   "language": "python",
   "name": "python3"
  },
  "language_info": {
   "codemirror_mode": {
    "name": "ipython",
    "version": 3
   },
   "file_extension": ".py",
   "mimetype": "text/x-python",
   "name": "python",
   "nbconvert_exporter": "python",
   "pygments_lexer": "ipython3",
   "version": "3.5.2"
  }
 },
 "nbformat": 4,
 "nbformat_minor": 2
}
