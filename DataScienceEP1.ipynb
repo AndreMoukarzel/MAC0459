{
 "cells": [
  {
   "cell_type": "markdown",
   "metadata": {},
   "source": [
    "## Indentification of all the members of the group.\n",
    "Name: André Ferrari Moukarzel - 9298166\n",
    "\n",
    "Name: Ângelo Gregório Lovatto - 9293435"
   ]
  },
  {
   "cell_type": "markdown",
   "metadata": {},
   "source": [
    "## Name of the dataset\n",
    "Dataset: Drug consumption"
   ]
  },
  {
   "cell_type": "markdown",
   "metadata": {},
   "source": [
    "## Motivation to choose this dataset\n",
    "Rational for choosing this dataset: Having the personality measurements of a large number of people (knowing other characteristics, like gender, age, etc..) opens up interesting possiblities for analysis, even more with the combined data of drug consumption.\n",
    " Not only that, the dataset consists of real-valued attributes which makes it easier to plot histograms and analyze features such as mean, standard deviation and the like. However, it's not clear if these analyses have any meaning in the context of the attributes considered."
   ]
  },
  {
   "cell_type": "markdown",
   "metadata": {},
   "source": [
    "## Abstract\n",
    "The dataset consists of the results of a survey of 1885 participants with correspondent personal characteristics (age, ethnicity, level of education..) relating personality data to drug consumption.  18 legal and illegal and a fictional drug were considered, with the possible answers indicating how heavy of a consumer the respondent is."
   ]
  },
  {
   "cell_type": "markdown",
   "metadata": {},
   "source": [
    "## Questions to the dataset\n",
    "Question 1: Is there a difference in distribution of any personality trait between sexes?\n",
    "\n",
    "Question 2: Is a personality profile indicative that someone is an over-claimer (someone who affirmed using a fictional drug)? \n",
    "\n",
    "Question 3: Which are the most common drugs per country surveyed?\n"
   ]
  },
  {
   "cell_type": "markdown",
   "metadata": {},
   "source": [
    "## EDA\n",
    "Present your EDA strategy: \n",
    "\n",
    "Analyse the distribution of personality traits with gender separation.\n",
    "\n",
    "Distinguish over-claimers from others.\n",
    "\n",
    "Plot personality traits with specific drug use.\n",
    "\n",
    "Which personality traits that seem to have a bigger correlation with drug use, analyse population in highest and lowest quartile of distribution of such trait. "
   ]
  },
  {
   "cell_type": "code",
   "execution_count": 140,
   "metadata": {},
   "outputs": [
    {
     "data": {
      "text/html": [
       "<div>\n",
       "<style scoped>\n",
       "    .dataframe tbody tr th:only-of-type {\n",
       "        vertical-align: middle;\n",
       "    }\n",
       "\n",
       "    .dataframe tbody tr th {\n",
       "        vertical-align: top;\n",
       "    }\n",
       "\n",
       "    .dataframe thead th {\n",
       "        text-align: right;\n",
       "    }\n",
       "</style>\n",
       "<table border=\"1\" class=\"dataframe\">\n",
       "  <thead>\n",
       "    <tr style=\"text-align: right;\">\n",
       "      <th></th>\n",
       "      <th>id</th>\n",
       "      <th>age</th>\n",
       "      <th>gender</th>\n",
       "      <th>education</th>\n",
       "      <th>country</th>\n",
       "      <th>etnicity</th>\n",
       "      <th>nscore</th>\n",
       "      <th>escore</th>\n",
       "      <th>oscore</th>\n",
       "      <th>ascore</th>\n",
       "      <th>cscore</th>\n",
       "      <th>impulsive</th>\n",
       "      <th>ss</th>\n",
       "    </tr>\n",
       "  </thead>\n",
       "  <tbody>\n",
       "    <tr>\n",
       "      <th>count</th>\n",
       "      <td>1885.000000</td>\n",
       "      <td>1885.00000</td>\n",
       "      <td>1885.000000</td>\n",
       "      <td>1885.000000</td>\n",
       "      <td>1885.000000</td>\n",
       "      <td>1885.000000</td>\n",
       "      <td>1885.000000</td>\n",
       "      <td>1885.000000</td>\n",
       "      <td>1885.000000</td>\n",
       "      <td>1885.000000</td>\n",
       "      <td>1885.000000</td>\n",
       "      <td>1885.000000</td>\n",
       "      <td>1885.000000</td>\n",
       "    </tr>\n",
       "    <tr>\n",
       "      <th>mean</th>\n",
       "      <td>945.294960</td>\n",
       "      <td>0.03461</td>\n",
       "      <td>-0.000256</td>\n",
       "      <td>-0.003806</td>\n",
       "      <td>0.355542</td>\n",
       "      <td>-0.309577</td>\n",
       "      <td>0.000047</td>\n",
       "      <td>-0.000163</td>\n",
       "      <td>-0.000534</td>\n",
       "      <td>-0.000245</td>\n",
       "      <td>-0.000386</td>\n",
       "      <td>0.007216</td>\n",
       "      <td>-0.003292</td>\n",
       "    </tr>\n",
       "    <tr>\n",
       "      <th>std</th>\n",
       "      <td>545.167641</td>\n",
       "      <td>0.87836</td>\n",
       "      <td>0.482588</td>\n",
       "      <td>0.950078</td>\n",
       "      <td>0.700335</td>\n",
       "      <td>0.166226</td>\n",
       "      <td>0.998106</td>\n",
       "      <td>0.997448</td>\n",
       "      <td>0.996229</td>\n",
       "      <td>0.997440</td>\n",
       "      <td>0.997523</td>\n",
       "      <td>0.954435</td>\n",
       "      <td>0.963701</td>\n",
       "    </tr>\n",
       "    <tr>\n",
       "      <th>min</th>\n",
       "      <td>1.000000</td>\n",
       "      <td>-0.95197</td>\n",
       "      <td>-0.482460</td>\n",
       "      <td>-2.435910</td>\n",
       "      <td>-0.570090</td>\n",
       "      <td>-1.107020</td>\n",
       "      <td>-3.464360</td>\n",
       "      <td>-3.273930</td>\n",
       "      <td>-3.273930</td>\n",
       "      <td>-3.464360</td>\n",
       "      <td>-3.464360</td>\n",
       "      <td>-2.555240</td>\n",
       "      <td>-2.078480</td>\n",
       "    </tr>\n",
       "    <tr>\n",
       "      <th>25%</th>\n",
       "      <td>474.000000</td>\n",
       "      <td>-0.95197</td>\n",
       "      <td>-0.482460</td>\n",
       "      <td>-0.611130</td>\n",
       "      <td>-0.570090</td>\n",
       "      <td>-0.316850</td>\n",
       "      <td>-0.678250</td>\n",
       "      <td>-0.695090</td>\n",
       "      <td>-0.717270</td>\n",
       "      <td>-0.606330</td>\n",
       "      <td>-0.652530</td>\n",
       "      <td>-0.711260</td>\n",
       "      <td>-0.525930</td>\n",
       "    </tr>\n",
       "    <tr>\n",
       "      <th>50%</th>\n",
       "      <td>946.000000</td>\n",
       "      <td>-0.07854</td>\n",
       "      <td>-0.482460</td>\n",
       "      <td>-0.059210</td>\n",
       "      <td>0.960820</td>\n",
       "      <td>-0.316850</td>\n",
       "      <td>0.042570</td>\n",
       "      <td>0.003320</td>\n",
       "      <td>-0.019280</td>\n",
       "      <td>-0.017290</td>\n",
       "      <td>-0.006650</td>\n",
       "      <td>-0.217120</td>\n",
       "      <td>0.079870</td>\n",
       "    </tr>\n",
       "    <tr>\n",
       "      <th>75%</th>\n",
       "      <td>1417.000000</td>\n",
       "      <td>0.49788</td>\n",
       "      <td>0.482460</td>\n",
       "      <td>0.454680</td>\n",
       "      <td>0.960820</td>\n",
       "      <td>-0.316850</td>\n",
       "      <td>0.629670</td>\n",
       "      <td>0.637790</td>\n",
       "      <td>0.723300</td>\n",
       "      <td>0.760960</td>\n",
       "      <td>0.584890</td>\n",
       "      <td>0.529750</td>\n",
       "      <td>0.765400</td>\n",
       "    </tr>\n",
       "    <tr>\n",
       "      <th>max</th>\n",
       "      <td>1888.000000</td>\n",
       "      <td>2.59171</td>\n",
       "      <td>0.482460</td>\n",
       "      <td>1.984370</td>\n",
       "      <td>0.960820</td>\n",
       "      <td>1.907250</td>\n",
       "      <td>3.273930</td>\n",
       "      <td>3.273930</td>\n",
       "      <td>2.901610</td>\n",
       "      <td>3.464360</td>\n",
       "      <td>3.464360</td>\n",
       "      <td>2.901610</td>\n",
       "      <td>1.921730</td>\n",
       "    </tr>\n",
       "  </tbody>\n",
       "</table>\n",
       "</div>"
      ],
      "text/plain": [
       "                id         age       gender    education      country  \\\n",
       "count  1885.000000  1885.00000  1885.000000  1885.000000  1885.000000   \n",
       "mean    945.294960     0.03461    -0.000256    -0.003806     0.355542   \n",
       "std     545.167641     0.87836     0.482588     0.950078     0.700335   \n",
       "min       1.000000    -0.95197    -0.482460    -2.435910    -0.570090   \n",
       "25%     474.000000    -0.95197    -0.482460    -0.611130    -0.570090   \n",
       "50%     946.000000    -0.07854    -0.482460    -0.059210     0.960820   \n",
       "75%    1417.000000     0.49788     0.482460     0.454680     0.960820   \n",
       "max    1888.000000     2.59171     0.482460     1.984370     0.960820   \n",
       "\n",
       "          etnicity       nscore       escore       oscore       ascore  \\\n",
       "count  1885.000000  1885.000000  1885.000000  1885.000000  1885.000000   \n",
       "mean     -0.309577     0.000047    -0.000163    -0.000534    -0.000245   \n",
       "std       0.166226     0.998106     0.997448     0.996229     0.997440   \n",
       "min      -1.107020    -3.464360    -3.273930    -3.273930    -3.464360   \n",
       "25%      -0.316850    -0.678250    -0.695090    -0.717270    -0.606330   \n",
       "50%      -0.316850     0.042570     0.003320    -0.019280    -0.017290   \n",
       "75%      -0.316850     0.629670     0.637790     0.723300     0.760960   \n",
       "max       1.907250     3.273930     3.273930     2.901610     3.464360   \n",
       "\n",
       "            cscore    impulsive           ss  \n",
       "count  1885.000000  1885.000000  1885.000000  \n",
       "mean     -0.000386     0.007216    -0.003292  \n",
       "std       0.997523     0.954435     0.963701  \n",
       "min      -3.464360    -2.555240    -2.078480  \n",
       "25%      -0.652530    -0.711260    -0.525930  \n",
       "50%      -0.006650    -0.217120     0.079870  \n",
       "75%       0.584890     0.529750     0.765400  \n",
       "max       3.464360     2.901610     1.921730  "
      ]
     },
     "execution_count": 140,
     "metadata": {},
     "output_type": "execute_result"
    }
   ],
   "source": [
    "%matplotlib inline \n",
    "import matplotlib.pyplot as plt\n",
    "import warnings; warnings.simplefilter('ignore')\n",
    "import pandas as pd\n",
    "import seaborn as sns\n",
    "import numpy as np\n",
    "\n",
    "drugs = pd.read_csv('drug_consumption.data')\n",
    "drugs.describe()"
   ]
  },
  {
   "cell_type": "markdown",
   "metadata": {},
   "source": [
    "## Question 1"
   ]
  },
  {
   "cell_type": "markdown",
   "metadata": {},
   "source": [
    "Male, in blue:    -0.48246\n",
    "\n",
    "Female, in orange: 0.48246\n",
    "\n",
    "By plotting the distribution of the traits while distinguishing by gender, we can notice some interesting differences in some of the traits."
   ]
  },
  {
   "cell_type": "markdown",
   "metadata": {},
   "source": [
    "### Neuroticism"
   ]
  },
  {
   "cell_type": "code",
   "execution_count": 141,
   "metadata": {},
   "outputs": [
    {
     "data": {
      "text/html": [
       "<div>\n",
       "<style scoped>\n",
       "    .dataframe tbody tr th:only-of-type {\n",
       "        vertical-align: middle;\n",
       "    }\n",
       "\n",
       "    .dataframe tbody tr th {\n",
       "        vertical-align: top;\n",
       "    }\n",
       "\n",
       "    .dataframe thead th {\n",
       "        text-align: right;\n",
       "    }\n",
       "</style>\n",
       "<table border=\"1\" class=\"dataframe\">\n",
       "  <thead>\n",
       "    <tr style=\"text-align: right;\">\n",
       "      <th></th>\n",
       "      <th>count</th>\n",
       "      <th>mean</th>\n",
       "      <th>std</th>\n",
       "      <th>min</th>\n",
       "      <th>25%</th>\n",
       "      <th>50%</th>\n",
       "      <th>75%</th>\n",
       "      <th>max</th>\n",
       "    </tr>\n",
       "    <tr>\n",
       "      <th>gender</th>\n",
       "      <th></th>\n",
       "      <th></th>\n",
       "      <th></th>\n",
       "      <th></th>\n",
       "      <th></th>\n",
       "      <th></th>\n",
       "      <th></th>\n",
       "      <th></th>\n",
       "    </tr>\n",
       "  </thead>\n",
       "  <tbody>\n",
       "    <tr>\n",
       "      <th>-0.48246</th>\n",
       "      <td>943.0</td>\n",
       "      <td>-0.074399</td>\n",
       "      <td>1.008479</td>\n",
       "      <td>-3.46436</td>\n",
       "      <td>-0.79151</td>\n",
       "      <td>-0.05188</td>\n",
       "      <td>0.62967</td>\n",
       "      <td>2.61139</td>\n",
       "    </tr>\n",
       "    <tr>\n",
       "      <th>0.48246</th>\n",
       "      <td>942.0</td>\n",
       "      <td>0.074571</td>\n",
       "      <td>0.982509</td>\n",
       "      <td>-2.75696</td>\n",
       "      <td>-0.58016</td>\n",
       "      <td>0.04257</td>\n",
       "      <td>0.73545</td>\n",
       "      <td>3.27393</td>\n",
       "    </tr>\n",
       "  </tbody>\n",
       "</table>\n",
       "</div>"
      ],
      "text/plain": [
       "          count      mean       std      min      25%      50%      75%  \\\n",
       "gender                                                                    \n",
       "-0.48246  943.0 -0.074399  1.008479 -3.46436 -0.79151 -0.05188  0.62967   \n",
       " 0.48246  942.0  0.074571  0.982509 -2.75696 -0.58016  0.04257  0.73545   \n",
       "\n",
       "              max  \n",
       "gender             \n",
       "-0.48246  2.61139  \n",
       " 0.48246  3.27393  "
      ]
     },
     "execution_count": 141,
     "metadata": {},
     "output_type": "execute_result"
    },
    {
     "data": {
      "image/png": "[encoded data removed]",
      "text/plain": [
       "<matplotlib.figure.Figure at 0x7fc6f13cf710>"
      ]
     },
     "metadata": {},
     "output_type": "display_data"
    }
   ],
   "source": [
    "drugs.groupby('gender')['nscore'].plot.hist(alpha=0.5)\n",
    "drugs.groupby('gender')['nscore'].describe()"
   ]
  },
  {
   "cell_type": "markdown",
   "metadata": {},
   "source": [
    "### Extraversion"
   ]
  },
  {
   "cell_type": "code",
   "execution_count": 142,
   "metadata": {},
   "outputs": [
    {
     "data": {
      "text/html": [
       "<div>\n",
       "<style scoped>\n",
       "    .dataframe tbody tr th:only-of-type {\n",
       "        vertical-align: middle;\n",
       "    }\n",
       "\n",
       "    .dataframe tbody tr th {\n",
       "        vertical-align: top;\n",
       "    }\n",
       "\n",
       "    .dataframe thead th {\n",
       "        text-align: right;\n",
       "    }\n",
       "</style>\n",
       "<table border=\"1\" class=\"dataframe\">\n",
       "  <thead>\n",
       "    <tr style=\"text-align: right;\">\n",
       "      <th></th>\n",
       "      <th>count</th>\n",
       "      <th>mean</th>\n",
       "      <th>std</th>\n",
       "      <th>min</th>\n",
       "      <th>25%</th>\n",
       "      <th>50%</th>\n",
       "      <th>75%</th>\n",
       "      <th>max</th>\n",
       "    </tr>\n",
       "    <tr>\n",
       "      <th>gender</th>\n",
       "      <th></th>\n",
       "      <th></th>\n",
       "      <th></th>\n",
       "      <th></th>\n",
       "      <th></th>\n",
       "      <th></th>\n",
       "      <th></th>\n",
       "      <th></th>\n",
       "    </tr>\n",
       "  </thead>\n",
       "  <tbody>\n",
       "    <tr>\n",
       "      <th>-0.48246</th>\n",
       "      <td>943.0</td>\n",
       "      <td>-0.057834</td>\n",
       "      <td>1.037565</td>\n",
       "      <td>-3.27393</td>\n",
       "      <td>-0.80615</td>\n",
       "      <td>-0.15487</td>\n",
       "      <td>0.63779</td>\n",
       "      <td>3.27393</td>\n",
       "    </tr>\n",
       "    <tr>\n",
       "      <th>0.48246</th>\n",
       "      <td>942.0</td>\n",
       "      <td>0.057569</td>\n",
       "      <td>0.952663</td>\n",
       "      <td>-2.72827</td>\n",
       "      <td>-0.57545</td>\n",
       "      <td>0.00332</td>\n",
       "      <td>0.63779</td>\n",
       "      <td>3.00537</td>\n",
       "    </tr>\n",
       "  </tbody>\n",
       "</table>\n",
       "</div>"
      ],
      "text/plain": [
       "          count      mean       std      min      25%      50%      75%  \\\n",
       "gender                                                                    \n",
       "-0.48246  943.0 -0.057834  1.037565 -3.27393 -0.80615 -0.15487  0.63779   \n",
       " 0.48246  942.0  0.057569  0.952663 -2.72827 -0.57545  0.00332  0.63779   \n",
       "\n",
       "              max  \n",
       "gender             \n",
       "-0.48246  3.27393  \n",
       " 0.48246  3.00537  "
      ]
     },
     "execution_count": 142,
     "metadata": {},
     "output_type": "execute_result"
    },
    {
     "data": {
      "image/png": "[encoded data removed]",
      "text/plain": [
       "<matplotlib.figure.Figure at 0x7fc6ee2030f0>"
      ]
     },
     "metadata": {},
     "output_type": "display_data"
    }
   ],
   "source": [
    "drugs.groupby('gender')['escore'].plot.hist(alpha=0.5)\n",
    "drugs.groupby('gender')['escore'].describe()"
   ]
  },
  {
   "cell_type": "markdown",
   "metadata": {},
   "source": [
    "### Openess"
   ]
  },
  {
   "cell_type": "code",
   "execution_count": 143,
   "metadata": {},
   "outputs": [
    {
     "data": {
      "text/html": [
       "<div>\n",
       "<style scoped>\n",
       "    .dataframe tbody tr th:only-of-type {\n",
       "        vertical-align: middle;\n",
       "    }\n",
       "\n",
       "    .dataframe tbody tr th {\n",
       "        vertical-align: top;\n",
       "    }\n",
       "\n",
       "    .dataframe thead th {\n",
       "        text-align: right;\n",
       "    }\n",
       "</style>\n",
       "<table border=\"1\" class=\"dataframe\">\n",
       "  <thead>\n",
       "    <tr style=\"text-align: right;\">\n",
       "      <th></th>\n",
       "      <th>count</th>\n",
       "      <th>mean</th>\n",
       "      <th>std</th>\n",
       "      <th>min</th>\n",
       "      <th>25%</th>\n",
       "      <th>50%</th>\n",
       "      <th>75%</th>\n",
       "      <th>max</th>\n",
       "    </tr>\n",
       "    <tr>\n",
       "      <th>gender</th>\n",
       "      <th></th>\n",
       "      <th></th>\n",
       "      <th></th>\n",
       "      <th></th>\n",
       "      <th></th>\n",
       "      <th></th>\n",
       "      <th></th>\n",
       "      <th></th>\n",
       "    </tr>\n",
       "  </thead>\n",
       "  <tbody>\n",
       "    <tr>\n",
       "      <th>-0.48246</th>\n",
       "      <td>943.0</td>\n",
       "      <td>0.129889</td>\n",
       "      <td>0.953495</td>\n",
       "      <td>-2.85950</td>\n",
       "      <td>-0.45174</td>\n",
       "      <td>0.14143</td>\n",
       "      <td>0.72330</td>\n",
       "      <td>2.90161</td>\n",
       "    </tr>\n",
       "    <tr>\n",
       "      <th>0.48246</th>\n",
       "      <td>942.0</td>\n",
       "      <td>-0.131096</td>\n",
       "      <td>1.021187</td>\n",
       "      <td>-3.27393</td>\n",
       "      <td>-0.84732</td>\n",
       "      <td>-0.17779</td>\n",
       "      <td>0.58331</td>\n",
       "      <td>2.90161</td>\n",
       "    </tr>\n",
       "  </tbody>\n",
       "</table>\n",
       "</div>"
      ],
      "text/plain": [
       "          count      mean       std      min      25%      50%      75%  \\\n",
       "gender                                                                    \n",
       "-0.48246  943.0  0.129889  0.953495 -2.85950 -0.45174  0.14143  0.72330   \n",
       " 0.48246  942.0 -0.131096  1.021187 -3.27393 -0.84732 -0.17779  0.58331   \n",
       "\n",
       "              max  \n",
       "gender             \n",
       "-0.48246  2.90161  \n",
       " 0.48246  2.90161  "
      ]
     },
     "execution_count": 143,
     "metadata": {},
     "output_type": "execute_result"
    },
    {
     "data": {
      "image/png": "[encoded data removed]",
      "text/plain": [
       "<matplotlib.figure.Figure at 0x7fc6f0f5dda0>"
      ]
     },
     "metadata": {},
     "output_type": "display_data"
    }
   ],
   "source": [
    "drugs.groupby('gender')['oscore'].plot.hist(alpha=0.5)\n",
    "drugs.groupby('gender')['oscore'].describe()"
   ]
  },
  {
   "cell_type": "markdown",
   "metadata": {},
   "source": [
    "### Agreeableness\n",
    "\n",
    "It is of note that the median of the distribution is half a standard deviation higher among the females. That is a relevant difference in psychology, and is also the biggest difference among the \"Big Five\" NEO-FFI-R personality traits measurements."
   ]
  },
  {
   "cell_type": "code",
   "execution_count": 144,
   "metadata": {},
   "outputs": [
    {
     "data": {
      "text/html": [
       "<div>\n",
       "<style scoped>\n",
       "    .dataframe tbody tr th:only-of-type {\n",
       "        vertical-align: middle;\n",
       "    }\n",
       "\n",
       "    .dataframe tbody tr th {\n",
       "        vertical-align: top;\n",
       "    }\n",
       "\n",
       "    .dataframe thead th {\n",
       "        text-align: right;\n",
       "    }\n",
       "</style>\n",
       "<table border=\"1\" class=\"dataframe\">\n",
       "  <thead>\n",
       "    <tr style=\"text-align: right;\">\n",
       "      <th></th>\n",
       "      <th>count</th>\n",
       "      <th>mean</th>\n",
       "      <th>std</th>\n",
       "      <th>min</th>\n",
       "      <th>25%</th>\n",
       "      <th>50%</th>\n",
       "      <th>75%</th>\n",
       "      <th>max</th>\n",
       "    </tr>\n",
       "    <tr>\n",
       "      <th>gender</th>\n",
       "      <th></th>\n",
       "      <th></th>\n",
       "      <th></th>\n",
       "      <th></th>\n",
       "      <th></th>\n",
       "      <th></th>\n",
       "      <th></th>\n",
       "      <th></th>\n",
       "    </tr>\n",
       "  </thead>\n",
       "  <tbody>\n",
       "    <tr>\n",
       "      <th>-0.48246</th>\n",
       "      <td>943.0</td>\n",
       "      <td>-0.219251</td>\n",
       "      <td>0.970008</td>\n",
       "      <td>-3.46436</td>\n",
       "      <td>-0.91699</td>\n",
       "      <td>-0.30172</td>\n",
       "      <td>0.43852</td>\n",
       "      <td>3.46436</td>\n",
       "    </tr>\n",
       "    <tr>\n",
       "      <th>0.48246</th>\n",
       "      <td>942.0</td>\n",
       "      <td>0.218994</td>\n",
       "      <td>0.976623</td>\n",
       "      <td>-2.78793</td>\n",
       "      <td>-0.45321</td>\n",
       "      <td>0.28783</td>\n",
       "      <td>0.94156</td>\n",
       "      <td>3.15735</td>\n",
       "    </tr>\n",
       "  </tbody>\n",
       "</table>\n",
       "</div>"
      ],
      "text/plain": [
       "          count      mean       std      min      25%      50%      75%  \\\n",
       "gender                                                                    \n",
       "-0.48246  943.0 -0.219251  0.970008 -3.46436 -0.91699 -0.30172  0.43852   \n",
       " 0.48246  942.0  0.218994  0.976623 -2.78793 -0.45321  0.28783  0.94156   \n",
       "\n",
       "              max  \n",
       "gender             \n",
       "-0.48246  3.46436  \n",
       " 0.48246  3.15735  "
      ]
     },
     "execution_count": 144,
     "metadata": {},
     "output_type": "execute_result"
    },
    {
     "data": {
      "image/png": "[encoded data removed]",
      "text/plain": [
       "<matplotlib.figure.Figure at 0x7fc6f1a8f390>"
      ]
     },
     "metadata": {},
     "output_type": "display_data"
    }
   ],
   "source": [
    "drugs.groupby('gender')['ascore'].plot.hist(alpha=0.5)\n",
    "drugs.groupby('gender')['ascore'].describe()"
   ]
  },
  {
   "cell_type": "markdown",
   "metadata": {},
   "source": [
    "### Conscientiousness \n",
    "\n",
    "While the median is similar, it is noticeable that the male distribution tends to be 0.3 standard deviations lower than the female's. That is a relevant difference, given that low conscientiousness has been correlated to drug abuse in other studies."
   ]
  },
  {
   "cell_type": "code",
   "execution_count": 145,
   "metadata": {},
   "outputs": [
    {
     "data": {
      "text/html": [
       "<div>\n",
       "<style scoped>\n",
       "    .dataframe tbody tr th:only-of-type {\n",
       "        vertical-align: middle;\n",
       "    }\n",
       "\n",
       "    .dataframe tbody tr th {\n",
       "        vertical-align: top;\n",
       "    }\n",
       "\n",
       "    .dataframe thead th {\n",
       "        text-align: right;\n",
       "    }\n",
       "</style>\n",
       "<table border=\"1\" class=\"dataframe\">\n",
       "  <thead>\n",
       "    <tr style=\"text-align: right;\">\n",
       "      <th></th>\n",
       "      <th>count</th>\n",
       "      <th>mean</th>\n",
       "      <th>std</th>\n",
       "      <th>min</th>\n",
       "      <th>25%</th>\n",
       "      <th>50%</th>\n",
       "      <th>75%</th>\n",
       "      <th>max</th>\n",
       "    </tr>\n",
       "    <tr>\n",
       "      <th>gender</th>\n",
       "      <th></th>\n",
       "      <th></th>\n",
       "      <th></th>\n",
       "      <th></th>\n",
       "      <th></th>\n",
       "      <th></th>\n",
       "      <th></th>\n",
       "      <th></th>\n",
       "    </tr>\n",
       "  </thead>\n",
       "  <tbody>\n",
       "    <tr>\n",
       "      <th>-0.48246</th>\n",
       "      <td>943.0</td>\n",
       "      <td>-0.183616</td>\n",
       "      <td>0.975850</td>\n",
       "      <td>-3.46436</td>\n",
       "      <td>-0.78155</td>\n",
       "      <td>-0.27607</td>\n",
       "      <td>0.415940</td>\n",
       "      <td>3.00537</td>\n",
       "    </tr>\n",
       "    <tr>\n",
       "      <th>0.48246</th>\n",
       "      <td>942.0</td>\n",
       "      <td>0.183038</td>\n",
       "      <td>0.985697</td>\n",
       "      <td>-3.15735</td>\n",
       "      <td>-0.52745</td>\n",
       "      <td>0.25953</td>\n",
       "      <td>0.894192</td>\n",
       "      <td>3.46436</td>\n",
       "    </tr>\n",
       "  </tbody>\n",
       "</table>\n",
       "</div>"
      ],
      "text/plain": [
       "          count      mean       std      min      25%      50%       75%  \\\n",
       "gender                                                                     \n",
       "-0.48246  943.0 -0.183616  0.975850 -3.46436 -0.78155 -0.27607  0.415940   \n",
       " 0.48246  942.0  0.183038  0.985697 -3.15735 -0.52745  0.25953  0.894192   \n",
       "\n",
       "              max  \n",
       "gender             \n",
       "-0.48246  3.00537  \n",
       " 0.48246  3.46436  "
      ]
     },
     "execution_count": 145,
     "metadata": {},
     "output_type": "execute_result"
    },
    {
     "data": {
      "image/png": "[encoded data removed]",
      "text/plain": [
       "<matplotlib.figure.Figure at 0x7fc6ed87ecf8>"
      ]
     },
     "metadata": {},
     "output_type": "display_data"
    }
   ],
   "source": [
    "drugs.groupby('gender')['cscore'].plot.hist(alpha=0.5)\n",
    "drugs.groupby('gender')['cscore'].describe()"
   ]
  },
  {
   "cell_type": "markdown",
   "metadata": {},
   "source": [
    "### Impulsiveness\n",
    "\n",
    "A trait that is considered a contributor to conscientiousness in NEO-FFI-R scaling, and is inversely correlated to such. Here, the difference between males and females is accentuated, with males being 0.4 standard deviations more impulsive, on average."
   ]
  },
  {
   "cell_type": "code",
   "execution_count": 146,
   "metadata": {},
   "outputs": [
    {
     "data": {
      "text/html": [
       "<div>\n",
       "<style scoped>\n",
       "    .dataframe tbody tr th:only-of-type {\n",
       "        vertical-align: middle;\n",
       "    }\n",
       "\n",
       "    .dataframe tbody tr th {\n",
       "        vertical-align: top;\n",
       "    }\n",
       "\n",
       "    .dataframe thead th {\n",
       "        text-align: right;\n",
       "    }\n",
       "</style>\n",
       "<table border=\"1\" class=\"dataframe\">\n",
       "  <thead>\n",
       "    <tr style=\"text-align: right;\">\n",
       "      <th></th>\n",
       "      <th>count</th>\n",
       "      <th>mean</th>\n",
       "      <th>std</th>\n",
       "      <th>min</th>\n",
       "      <th>25%</th>\n",
       "      <th>50%</th>\n",
       "      <th>75%</th>\n",
       "      <th>max</th>\n",
       "    </tr>\n",
       "    <tr>\n",
       "      <th>gender</th>\n",
       "      <th></th>\n",
       "      <th></th>\n",
       "      <th></th>\n",
       "      <th></th>\n",
       "      <th></th>\n",
       "      <th></th>\n",
       "      <th></th>\n",
       "      <th></th>\n",
       "    </tr>\n",
       "  </thead>\n",
       "  <tbody>\n",
       "    <tr>\n",
       "      <th>-0.48246</th>\n",
       "      <td>943.0</td>\n",
       "      <td>0.166949</td>\n",
       "      <td>0.908093</td>\n",
       "      <td>-2.55524</td>\n",
       "      <td>-0.21712</td>\n",
       "      <td>0.19268</td>\n",
       "      <td>0.88113</td>\n",
       "      <td>2.90161</td>\n",
       "    </tr>\n",
       "    <tr>\n",
       "      <th>0.48246</th>\n",
       "      <td>942.0</td>\n",
       "      <td>-0.152686</td>\n",
       "      <td>0.973218</td>\n",
       "      <td>-2.55524</td>\n",
       "      <td>-0.71126</td>\n",
       "      <td>-0.21712</td>\n",
       "      <td>0.52975</td>\n",
       "      <td>2.90161</td>\n",
       "    </tr>\n",
       "  </tbody>\n",
       "</table>\n",
       "</div>"
      ],
      "text/plain": [
       "          count      mean       std      min      25%      50%      75%  \\\n",
       "gender                                                                    \n",
       "-0.48246  943.0  0.166949  0.908093 -2.55524 -0.21712  0.19268  0.88113   \n",
       " 0.48246  942.0 -0.152686  0.973218 -2.55524 -0.71126 -0.21712  0.52975   \n",
       "\n",
       "              max  \n",
       "gender             \n",
       "-0.48246  2.90161  \n",
       " 0.48246  2.90161  "
      ]
     },
     "execution_count": 146,
     "metadata": {},
     "output_type": "execute_result"
    },
    {
     "data": {
      "image/png": "[encoded data removed]",
      "text/plain": [
       "<matplotlib.figure.Figure at 0x7fc6ee279dd8>"
      ]
     },
     "metadata": {},
     "output_type": "display_data"
    }
   ],
   "source": [
    "drugs.groupby('gender')['impulsive'].plot.hist(alpha=0.5)\n",
    "drugs.groupby('gender')['impulsive'].describe()"
   ]
  },
  {
   "cell_type": "markdown",
   "metadata": {},
   "source": [
    "### Impulsiveness\n",
    "\n",
    "Another trait that is considered a contributor to conscientiousness in NEO-FFI-R scaling, and is inversely correlated to such. This is the trait with the most noticeable difference between males and females, with females being, on average, half a standard deviation less impulsive and having a mean lower by a whole standard deviation."
   ]
  },
  {
   "cell_type": "code",
   "execution_count": 147,
   "metadata": {
    "scrolled": true
   },
   "outputs": [
    {
     "data": {
      "text/html": [
       "<div>\n",
       "<style scoped>\n",
       "    .dataframe tbody tr th:only-of-type {\n",
       "        vertical-align: middle;\n",
       "    }\n",
       "\n",
       "    .dataframe tbody tr th {\n",
       "        vertical-align: top;\n",
       "    }\n",
       "\n",
       "    .dataframe thead th {\n",
       "        text-align: right;\n",
       "    }\n",
       "</style>\n",
       "<table border=\"1\" class=\"dataframe\">\n",
       "  <thead>\n",
       "    <tr style=\"text-align: right;\">\n",
       "      <th></th>\n",
       "      <th>count</th>\n",
       "      <th>mean</th>\n",
       "      <th>std</th>\n",
       "      <th>min</th>\n",
       "      <th>25%</th>\n",
       "      <th>50%</th>\n",
       "      <th>75%</th>\n",
       "      <th>max</th>\n",
       "    </tr>\n",
       "    <tr>\n",
       "      <th>gender</th>\n",
       "      <th></th>\n",
       "      <th></th>\n",
       "      <th></th>\n",
       "      <th></th>\n",
       "      <th></th>\n",
       "      <th></th>\n",
       "      <th></th>\n",
       "      <th></th>\n",
       "    </tr>\n",
       "  </thead>\n",
       "  <tbody>\n",
       "    <tr>\n",
       "      <th>-0.48246</th>\n",
       "      <td>943.0</td>\n",
       "      <td>0.231931</td>\n",
       "      <td>0.881860</td>\n",
       "      <td>-2.07848</td>\n",
       "      <td>-0.21575</td>\n",
       "      <td>0.40148</td>\n",
       "      <td>0.76540</td>\n",
       "      <td>1.92173</td>\n",
       "    </tr>\n",
       "    <tr>\n",
       "      <th>0.48246</th>\n",
       "      <td>942.0</td>\n",
       "      <td>-0.238764</td>\n",
       "      <td>0.984864</td>\n",
       "      <td>-2.07848</td>\n",
       "      <td>-0.84637</td>\n",
       "      <td>-0.21575</td>\n",
       "      <td>0.40148</td>\n",
       "      <td>1.92173</td>\n",
       "    </tr>\n",
       "  </tbody>\n",
       "</table>\n",
       "</div>"
      ],
      "text/plain": [
       "          count      mean       std      min      25%      50%      75%  \\\n",
       "gender                                                                    \n",
       "-0.48246  943.0  0.231931  0.881860 -2.07848 -0.21575  0.40148  0.76540   \n",
       " 0.48246  942.0 -0.238764  0.984864 -2.07848 -0.84637 -0.21575  0.40148   \n",
       "\n",
       "              max  \n",
       "gender             \n",
       "-0.48246  1.92173  \n",
       " 0.48246  1.92173  "
      ]
     },
     "execution_count": 147,
     "metadata": {},
     "output_type": "execute_result"
    },
    {
     "data": {
      "image/png": "[encoded data removed]",
      "text/plain": [
       "<matplotlib.figure.Figure at 0x7fc6ee7b7c88>"
      ]
     },
     "metadata": {},
     "output_type": "display_data"
    }
   ],
   "source": [
    "drugs.groupby('gender')['ss'].plot.hist(alpha=0.5)\n",
    "drugs.groupby('gender')['ss'].describe()"
   ]
  },
  {
   "cell_type": "markdown",
   "metadata": {},
   "source": [
    "## Question 2"
   ]
  },
  {
   "cell_type": "code",
   "execution_count": 148,
   "metadata": {},
   "outputs": [
    {
     "data": {
      "text/plain": [
       "False    1877\n",
       "True        8\n",
       "Name: overclaimer, dtype: int64"
      ]
     },
     "execution_count": 148,
     "metadata": {},
     "output_type": "execute_result"
    },
    {
     "data": {
      "image/png": "[encoded data removed]",
      "text/plain": [
       "<matplotlib.figure.Figure at 0x7fc6f13e3e10>"
      ]
     },
     "metadata": {},
     "output_type": "display_data"
    }
   ],
   "source": [
    "drugs['overclaimer'] = drugs['semer'] != 'CL0'\n",
    "sns.heatmap(drugs[['nscore','escore','oscore','ascore','cscore', 'impulsive', 'ss','overclaimer']].corr(), cmap='coolwarm')\n",
    "drugs['overclaimer'].value_counts()"
   ]
  },
  {
   "cell_type": "markdown",
   "metadata": {},
   "source": [
    "Not only do all personality traits have no aparent correlation to what we called over-claimers (that is, people that told researchers they had ever used \"Semer\", a fictional drug), the number of over-claimers itself is so small that it would be impossible to gather statisticaly relevant data from it."
   ]
  },
  {
   "cell_type": "markdown",
   "metadata": {},
   "source": [
    "## Question 3"
   ]
  },
  {
   "cell_type": "markdown",
   "metadata": {},
   "source": [
    "USA: -0.57009\n",
    "\n",
    "New Zealand: -0.46841\n",
    "\n",
    "Other: -0.28519\n",
    "\n",
    "Australia: -0.09765\n",
    "\n",
    "Republic of Ireland: 0.21128\n",
    "\n",
    "Canada: 0.24923\n",
    "\n",
    "UK: 0.96082"
   ]
  },
  {
   "cell_type": "code",
   "execution_count": 149,
   "metadata": {},
   "outputs": [],
   "source": [
    "drugs['alcohool'] = (drugs['alcohool'] != 'CL0') & (drugs['alcohool'] != 'CL1')\n",
    "drugs['amphet'] = (drugs['amphet'] != 'CL0') & (drugs['amphet'] != 'CL1')\n",
    "drugs['amyl'] = (drugs['amyl'] != 'CL0') & (drugs['amyl'] != 'CL1')\n",
    "drugs['benzos'] = (drugs['benzos'] != 'CL0') & (drugs['benzos'] != 'CL1')\n",
    "drugs['caff'] = (drugs['caff'] != 'CL0') & (drugs['caff'] != 'CL1')\n",
    "drugs['cannabis'] = (drugs['cannabis'] != 'CL0') & (drugs['cannabis'] != 'CL1')\n",
    "drugs['choc'] = (drugs['choc'] != 'CL0') & (drugs['choc'] != 'CL1')\n",
    "drugs['coke'] = (drugs['coke'] != 'CL0') & (drugs['coke'] != 'CL1')\n",
    "drugs['crack'] = (drugs['crack'] != 'CL0') & (drugs['crack'] != 'CL1')\n",
    "drugs['ecstasy'] = (drugs['ecstasy'] != 'CL0') & (drugs['ecstasy'] != 'CL1')\n",
    "drugs['heroin'] = (drugs['heroin'] != 'CL0') & (drugs['heroin'] != 'CL1')\n",
    "drugs['ketamine'] = (drugs['ketamine'] != 'CL0') & (drugs['ketamine'] != 'CL1')\n",
    "drugs['legalh'] = (drugs['legalh'] != 'CL0') & (drugs['legalh'] != 'CL1')\n",
    "drugs['lsd'] = (drugs['lsd'] != 'CL0') & (drugs['lsd'] != 'CL1')\n",
    "drugs['meth'] = (drugs['meth'] != 'CL0') & (drugs['meth'] != 'CL1')\n",
    "drugs['mushrooms'] = (drugs['mushrooms'] != 'CL0') & (drugs['mushrooms'] != 'CL1')\n",
    "drugs['nicotine'] = (drugs['nicotine'] != 'CL0') & (drugs['nicotine'] != 'CL1')\n",
    "drugs['vsa'] = (drugs['vsa'] != 'CL0') & (drugs['vsa'] != 'CL1')"
   ]
  },
  {
   "cell_type": "code",
   "execution_count": 150,
   "metadata": {},
   "outputs": [],
   "source": [
    "def lowest_to_highest(count_list):\n",
    "    print(\"From lowest to highest:\\n\\n\")\n",
    "    names = ['USA', 'New Zealand', 'Other', 'Australia', 'Republic of Ireland', 'Canada', 'UK']\n",
    "    vals = [557, 5, 118, 54, 20, 87, 1044]\n",
    "      \n",
    "    for i, key in enumerate(count_list.keys()):\n",
    "        if key[1]: # Number of \"True\"\n",
    "            if key[0] <= -0.57: # USA\n",
    "                vals[0] = count_list[i]/vals[0]\n",
    "            elif key[0] <= -0.46: # NZ\n",
    "                vals[1] = count_list[i]/vals[1]\n",
    "            elif key[0] <= -0.28: # Other\n",
    "                vals[2] = count_list[i]/vals[2]\n",
    "            elif key[0] <= -0.09: # AUS\n",
    "                vals[3] = count_list[i]/vals[3]\n",
    "            elif key[0] <= 0.22: # IE\n",
    "                vals[4] = count_list[i]/vals[4]\n",
    "            elif key[0] <= 0.25: # CAN\n",
    "                vals[5] = count_list[i]/vals[5]\n",
    "            else:\n",
    "                vals[6] = count_list[i]/vals[6]\n",
    "    \n",
    "    vals, names = zip(*sorted(zip(vals, names)))\n",
    "    for i in range(len(vals)):\n",
    "        print(names[i], \": \",vals[i])"
   ]
  },
  {
   "cell_type": "markdown",
   "metadata": {},
   "source": [
    "### Alcohol"
   ]
  },
  {
   "cell_type": "code",
   "execution_count": 151,
   "metadata": {},
   "outputs": [
    {
     "name": "stdout",
     "output_type": "stream",
     "text": [
      "From lowest to highest:\n",
      "\n",
      "\n",
      "Republic of Ireland :  0.9\n",
      "Canada :  0.9195402298850575\n",
      "UK :  0.9597701149425287\n",
      "Other :  0.9745762711864406\n",
      "USA :  0.9766606822262118\n",
      "Australia :  0.9814814814814815\n",
      "New Zealand :  1.0\n"
     ]
    }
   ],
   "source": [
    "val = drugs.groupby('country')['alcohool'].value_counts()\n",
    "lowest_to_highest(val)"
   ]
  },
  {
   "cell_type": "markdown",
   "metadata": {},
   "source": [
    "### Amphetamines "
   ]
  },
  {
   "cell_type": "code",
   "execution_count": 152,
   "metadata": {},
   "outputs": [
    {
     "name": "stdout",
     "output_type": "stream",
     "text": [
      "From lowest to highest:\n",
      "\n",
      "\n",
      "UK :  0.2049808429118774\n",
      "New Zealand :  0.4\n",
      "Other :  0.4067796610169492\n",
      "Canada :  0.4367816091954023\n",
      "USA :  0.5888689407540395\n",
      "Republic of Ireland :  0.6\n",
      "Australia :  0.6851851851851852\n"
     ]
    }
   ],
   "source": [
    "val = drugs.groupby('country')['amphet'].value_counts()\n",
    "lowest_to_highest(val)"
   ]
  },
  {
   "cell_type": "markdown",
   "metadata": {},
   "source": [
    "### Amyl Nitrite"
   ]
  },
  {
   "cell_type": "code",
   "execution_count": 153,
   "metadata": {},
   "outputs": [
    {
     "name": "stdout",
     "output_type": "stream",
     "text": [
      "From lowest to highest:\n",
      "\n",
      "\n",
      "USA :  0.12387791741472172\n",
      "Canada :  0.12643678160919541\n",
      "UK :  0.21743295019157088\n",
      "Other :  0.2627118644067797\n",
      "Australia :  0.37037037037037035\n",
      "Republic of Ireland :  0.45\n",
      "New Zealand :  0.6\n"
     ]
    }
   ],
   "source": [
    "val = drugs.groupby('country')['amyl'].value_counts(sort=False)\n",
    "lowest_to_highest(val)"
   ]
  },
  {
   "cell_type": "markdown",
   "metadata": {},
   "source": [
    "### Benzodiazepine"
   ]
  },
  {
   "cell_type": "code",
   "execution_count": 154,
   "metadata": {},
   "outputs": [
    {
     "name": "stdout",
     "output_type": "stream",
     "text": [
      "From lowest to highest:\n",
      "\n",
      "\n",
      "UK :  0.24616858237547892\n",
      "Other :  0.423728813559322\n",
      "Canada :  0.42528735632183906\n",
      "Republic of Ireland :  0.5\n",
      "New Zealand :  0.6\n",
      "Australia :  0.6296296296296297\n",
      "USA :  0.6786355475763016\n"
     ]
    }
   ],
   "source": [
    "val = drugs.groupby('country')['benzos'].value_counts()\n",
    "lowest_to_highest(val)"
   ]
  },
  {
   "cell_type": "markdown",
   "metadata": {},
   "source": [
    "### Caffeine"
   ]
  },
  {
   "cell_type": "code",
   "execution_count": 155,
   "metadata": {},
   "outputs": [
    {
     "name": "stdout",
     "output_type": "stream",
     "text": [
      "From lowest to highest:\n",
      "\n",
      "\n",
      "UK :  0.9703065134099617\n",
      "Australia :  0.9814814814814815\n",
      "USA :  0.9910233393177738\n",
      "Canada :  1.0\n",
      "New Zealand :  1.0\n",
      "Other :  1.0\n",
      "Republic of Ireland :  1.0\n"
     ]
    }
   ],
   "source": [
    "val = drugs.groupby('country')['caff'].value_counts()\n",
    "lowest_to_highest(val)"
   ]
  },
  {
   "cell_type": "markdown",
   "metadata": {},
   "source": [
    "### Cannabis"
   ]
  },
  {
   "cell_type": "code",
   "execution_count": 156,
   "metadata": {
    "scrolled": true
   },
   "outputs": [
    {
     "name": "stdout",
     "output_type": "stream",
     "text": [
      "From lowest to highest:\n",
      "\n",
      "\n",
      "UK :  0.47988505747126436\n",
      "Canada :  0.7701149425287356\n",
      "Republic of Ireland :  0.8\n",
      "Other :  0.847457627118644\n",
      "Australia :  0.9074074074074074\n",
      "USA :  0.9461400359066428\n",
      "New Zealand :  1.0\n"
     ]
    }
   ],
   "source": [
    "val = drugs.groupby('country')['cannabis'].value_counts()\n",
    "lowest_to_highest(val)"
   ]
  },
  {
   "cell_type": "markdown",
   "metadata": {},
   "source": [
    "### Chocolate"
   ]
  },
  {
   "cell_type": "code",
   "execution_count": 157,
   "metadata": {},
   "outputs": [
    {
     "name": "stdout",
     "output_type": "stream",
     "text": [
      "From lowest to highest:\n",
      "\n",
      "\n",
      "Canada :  0.9425287356321839\n",
      "USA :  0.9712746858168761\n",
      "UK :  0.9875478927203065\n",
      "Other :  0.9915254237288136\n",
      "Australia :  1.0\n",
      "New Zealand :  1.0\n",
      "Republic of Ireland :  1.0\n"
     ]
    }
   ],
   "source": [
    "val = drugs.groupby('country')['choc'].value_counts()\n",
    "lowest_to_highest(val)"
   ]
  },
  {
   "cell_type": "markdown",
   "metadata": {},
   "source": [
    "### Cocaine"
   ]
  },
  {
   "cell_type": "code",
   "execution_count": 158,
   "metadata": {},
   "outputs": [
    {
     "name": "stdout",
     "output_type": "stream",
     "text": [
      "From lowest to highest:\n",
      "\n",
      "\n",
      "UK :  0.25\n",
      "Other :  0.3983050847457627\n",
      "New Zealand :  0.4\n",
      "Republic of Ireland :  0.45\n",
      "Canada :  0.45977011494252873\n",
      "Australia :  0.46296296296296297\n",
      "USA :  0.5439856373429084\n"
     ]
    }
   ],
   "source": [
    "val = drugs.groupby('country')['coke'].value_counts()\n",
    "lowest_to_highest(val)"
   ]
  },
  {
   "cell_type": "markdown",
   "metadata": {},
   "source": [
    "### Crack"
   ]
  },
  {
   "cell_type": "code",
   "execution_count": 160,
   "metadata": {},
   "outputs": [
    {
     "name": "stdout",
     "output_type": "stream",
     "text": [
      "From lowest to highest:\n",
      "\n",
      "\n",
      "UK :  0.04310344827586207\n",
      "Other :  0.0847457627118644\n",
      "Australia :  0.09259259259259259\n",
      "Republic of Ireland :  0.1\n",
      "Canada :  0.19540229885057472\n",
      "USA :  0.20107719928186715\n",
      "New Zealand :  5\n"
     ]
    }
   ],
   "source": [
    "val = drugs.groupby('country')['crack'].value_counts()\n",
    "lowest_to_highest(val)"
   ]
  },
  {
   "cell_type": "markdown",
   "metadata": {},
   "source": [
    "### Ecstasy"
   ]
  },
  {
   "cell_type": "code",
   "execution_count": 161,
   "metadata": {},
   "outputs": [
    {
     "name": "stdout",
     "output_type": "stream",
     "text": [
      "From lowest to highest:\n",
      "\n",
      "\n",
      "UK :  0.2509578544061303\n",
      "Canada :  0.47126436781609193\n",
      "Other :  0.5\n",
      "New Zealand :  0.6\n",
      "Republic of Ireland :  0.6\n",
      "USA :  0.6068222621184919\n",
      "Australia :  0.6666666666666666\n"
     ]
    }
   ],
   "source": [
    "val = drugs.groupby('country')['ecstasy'].value_counts()\n",
    "lowest_to_highest(val)"
   ]
  },
  {
   "cell_type": "markdown",
   "metadata": {},
   "source": [
    "### Heroin"
   ]
  },
  {
   "cell_type": "code",
   "execution_count": 162,
   "metadata": {},
   "outputs": [
    {
     "name": "stdout",
     "output_type": "stream",
     "text": [
      "From lowest to highest:\n",
      "\n",
      "\n",
      "UK :  0.032567049808429116\n",
      "Other :  0.09322033898305085\n",
      "Republic of Ireland :  0.1\n",
      "Australia :  0.1111111111111111\n",
      "Canada :  0.13793103448275862\n",
      "USA :  0.26032315978456017\n",
      "New Zealand :  0.4\n"
     ]
    }
   ],
   "source": [
    "val = drugs.groupby('country')['heroin'].value_counts()\n",
    "lowest_to_highest(val)"
   ]
  },
  {
   "cell_type": "markdown",
   "metadata": {},
   "source": [
    "### Ketamines"
   ]
  },
  {
   "cell_type": "code",
   "execution_count": 163,
   "metadata": {},
   "outputs": [
    {
     "name": "stdout",
     "output_type": "stream",
     "text": [
      "From lowest to highest:\n",
      "\n",
      "\n",
      "UK :  0.1417624521072797\n",
      "Republic of Ireland :  0.15\n",
      "USA :  0.22980251346499103\n",
      "Other :  0.2457627118644068\n",
      "Canada :  0.27586206896551724\n",
      "Australia :  0.2962962962962963\n",
      "New Zealand :  0.4\n"
     ]
    }
   ],
   "source": [
    "val = drugs.groupby('country')['ketamine'].value_counts()\n",
    "lowest_to_highest(val)"
   ]
  },
  {
   "cell_type": "markdown",
   "metadata": {},
   "source": [
    "### Legal Highs"
   ]
  },
  {
   "cell_type": "code",
   "execution_count": 164,
   "metadata": {},
   "outputs": [
    {
     "name": "stdout",
     "output_type": "stream",
     "text": [
      "From lowest to highest:\n",
      "\n",
      "\n",
      "UK :  0.22126436781609196\n",
      "Canada :  0.4482758620689655\n",
      "Other :  0.4915254237288136\n",
      "Australia :  0.5185185185185185\n",
      "Republic of Ireland :  0.6\n",
      "USA :  0.6983842010771992\n",
      "New Zealand :  1.0\n"
     ]
    }
   ],
   "source": [
    "val = drugs.groupby('country')['legalh'].value_counts()\n",
    "lowest_to_highest(val)"
   ]
  },
  {
   "cell_type": "markdown",
   "metadata": {},
   "source": [
    "### LSD"
   ]
  },
  {
   "cell_type": "code",
   "execution_count": 165,
   "metadata": {},
   "outputs": [
    {
     "name": "stdout",
     "output_type": "stream",
     "text": [
      "From lowest to highest:\n",
      "\n",
      "\n",
      "UK :  0.10440613026819924\n",
      "Republic of Ireland :  0.3\n",
      "Canada :  0.3563218390804598\n",
      "Other :  0.5084745762711864\n",
      "USA :  0.5601436265709157\n",
      "Australia :  0.6481481481481481\n",
      "New Zealand :  0.8\n"
     ]
    }
   ],
   "source": [
    "val = drugs.groupby('country')['lsd'].value_counts()\n",
    "lowest_to_highest(val)"
   ]
  },
  {
   "cell_type": "markdown",
   "metadata": {},
   "source": [
    "### Methadone"
   ]
  },
  {
   "cell_type": "code",
   "execution_count": 166,
   "metadata": {},
   "outputs": [
    {
     "name": "stdout",
     "output_type": "stream",
     "text": [
      "From lowest to highest:\n",
      "\n",
      "\n",
      "UK :  0.06704980842911877\n",
      "Republic of Ireland :  0.2\n",
      "Other :  0.211864406779661\n",
      "Australia :  0.2222222222222222\n",
      "Canada :  0.27586206896551724\n",
      "New Zealand :  0.4\n",
      "USA :  0.5026929982046678\n"
     ]
    }
   ],
   "source": [
    "val = drugs.groupby('country')['meth'].value_counts()\n",
    "lowest_to_highest(val)"
   ]
  },
  {
   "cell_type": "markdown",
   "metadata": {},
   "source": [
    "### Mushrooms"
   ]
  },
  {
   "cell_type": "code",
   "execution_count": 167,
   "metadata": {},
   "outputs": [
    {
     "name": "stdout",
     "output_type": "stream",
     "text": [
      "From lowest to highest:\n",
      "\n",
      "\n",
      "UK :  0.17049808429118773\n",
      "Republic of Ireland :  0.3\n",
      "Australia :  0.5\n",
      "Canada :  0.5287356321839081\n",
      "Other :  0.5508474576271186\n",
      "New Zealand :  0.6\n",
      "USA :  0.6624775583482945\n"
     ]
    }
   ],
   "source": [
    "val = drugs.groupby('country')['mushrooms'].value_counts()\n",
    "lowest_to_highest(val)"
   ]
  },
  {
   "cell_type": "markdown",
   "metadata": {},
   "source": [
    "### Nicotine"
   ]
  },
  {
   "cell_type": "code",
   "execution_count": 168,
   "metadata": {},
   "outputs": [
    {
     "name": "stdout",
     "output_type": "stream",
     "text": [
      "From lowest to highest:\n",
      "\n",
      "\n",
      "UK :  0.5574712643678161\n",
      "New Zealand :  0.6\n",
      "Canada :  0.6896551724137931\n",
      "Australia :  0.7777777777777778\n",
      "Other :  0.8050847457627118\n",
      "USA :  0.8330341113105925\n",
      "Republic of Ireland :  0.9\n"
     ]
    }
   ],
   "source": [
    "val = drugs.groupby('country')['nicotine'].value_counts()\n",
    "lowest_to_highest(val)"
   ]
  },
  {
   "cell_type": "markdown",
   "metadata": {},
   "source": [
    "### Volatile Substance Abuse"
   ]
  },
  {
   "cell_type": "code",
   "execution_count": 169,
   "metadata": {},
   "outputs": [
    {
     "name": "stdout",
     "output_type": "stream",
     "text": [
      "From lowest to highest:\n",
      "\n",
      "\n",
      "UK :  0.04310344827586207\n",
      "Canada :  0.08045977011494253\n",
      "Other :  0.1271186440677966\n",
      "Australia :  0.2222222222222222\n",
      "Republic of Ireland :  0.25\n",
      "USA :  0.2585278276481149\n",
      "New Zealand :  0.4\n"
     ]
    }
   ],
   "source": [
    "val = drugs.groupby('country')['vsa'].value_counts()\n",
    "lowest_to_highest(val)"
   ]
  },
  {
   "cell_type": "markdown",
   "metadata": {},
   "source": [
    "## Considerations"
   ]
  },
  {
   "cell_type": "markdown",
   "metadata": {},
   "source": [
    "5) Make your own remarks about the dataset. Try to use one or more graphics to justify your remarks."
   ]
  },
  {
   "cell_type": "markdown",
   "metadata": {},
   "source": [
    "6) Is there any symmetry that can be stressed?"
   ]
  },
  {
   "cell_type": "markdown",
   "metadata": {},
   "source": [
    "7) How important was EDA to help you understand the dataset?"
   ]
  }
 ],
 "metadata": {
  "kernelspec": {
   "display_name": "Python 3",
   "language": "python",
   "name": "python3"
  },
  "language_info": {
   "codemirror_mode": {
    "name": "ipython",
    "version": 3
   },
   "file_extension": ".py",
   "mimetype": "text/x-python",
   "name": "python",
   "nbconvert_exporter": "python",
   "pygments_lexer": "ipython3",
   "version": "3.5.2"
  }
 },
 "nbformat": 4,
 "nbformat_minor": 2
}
